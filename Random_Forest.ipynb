{
 "cells": [
  {
   "cell_type": "code",
   "execution_count": 1,
   "metadata": {
    "collapsed": true
   },
   "outputs": [],
   "source": [
    "import pandas as pd\n",
    "from sklearn.model_selection import train_test_split, GridSearchCV\n",
    "from sklearn.ensemble import RandomForestClassifier, RandomForestRegressor\n",
    "import matplotlib.pyplot as plt\n",
    "import pickle\n",
    "\n",
    "pd.set_option('max_colwidth', None)"
   ]
  },
  {
   "cell_type": "code",
   "execution_count": 2,
   "metadata": {
    "collapsed": true
   },
   "outputs": [],
   "source": [
    "df = pd.read_excel('withFeaturesDF.xlsx', index_col=0, engine='openpyxl')"
   ]
  },
  {
   "cell_type": "code",
   "execution_count": 3,
   "metadata": {
    "collapsed": true
   },
   "outputs": [],
   "source": [
    "X = df.drop(['target', '№ п/п (КЛЮЧ)', 'Отрасль', 'Наименование'], axis=1)\n",
    "y = df['target']"
   ]
  },
  {
   "cell_type": "code",
   "execution_count": 4,
   "metadata": {},
   "outputs": [
    {
     "data": {
      "text/html": [
       "<div>\n",
       "<style scoped>\n",
       "    .dataframe tbody tr th:only-of-type {\n",
       "        vertical-align: middle;\n",
       "    }\n",
       "\n",
       "    .dataframe tbody tr th {\n",
       "        vertical-align: top;\n",
       "    }\n",
       "\n",
       "    .dataframe thead th {\n",
       "        text-align: right;\n",
       "    }\n",
       "</style>\n",
       "<table border=\"1\" class=\"dataframe\">\n",
       "  <thead>\n",
       "    <tr style=\"text-align: right;\">\n",
       "      <th></th>\n",
       "      <th>String_similarity</th>\n",
       "      <th>Max_similarity</th>\n",
       "      <th>Average_similarity</th>\n",
       "      <th>More_then_average</th>\n",
       "      <th>String_1</th>\n",
       "      <th>String_2</th>\n",
       "      <th>cosine_similarity</th>\n",
       "    </tr>\n",
       "  </thead>\n",
       "  <tbody>\n",
       "    <tr>\n",
       "      <th>0</th>\n",
       "      <td>1.000000</td>\n",
       "      <td>1.000000</td>\n",
       "      <td>1.000000</td>\n",
       "      <td>4</td>\n",
       "      <td>4</td>\n",
       "      <td>4</td>\n",
       "      <td>1.000000</td>\n",
       "    </tr>\n",
       "    <tr>\n",
       "      <th>1</th>\n",
       "      <td>0.764045</td>\n",
       "      <td>0.941176</td>\n",
       "      <td>0.914751</td>\n",
       "      <td>2</td>\n",
       "      <td>4</td>\n",
       "      <td>3</td>\n",
       "      <td>0.966284</td>\n",
       "    </tr>\n",
       "    <tr>\n",
       "      <th>2</th>\n",
       "      <td>0.764045</td>\n",
       "      <td>0.941176</td>\n",
       "      <td>0.914751</td>\n",
       "      <td>2</td>\n",
       "      <td>4</td>\n",
       "      <td>3</td>\n",
       "      <td>0.966284</td>\n",
       "    </tr>\n",
       "    <tr>\n",
       "      <th>3</th>\n",
       "      <td>0.764045</td>\n",
       "      <td>0.941176</td>\n",
       "      <td>0.914751</td>\n",
       "      <td>2</td>\n",
       "      <td>4</td>\n",
       "      <td>3</td>\n",
       "      <td>0.966284</td>\n",
       "    </tr>\n",
       "    <tr>\n",
       "      <th>4</th>\n",
       "      <td>0.674419</td>\n",
       "      <td>1.000000</td>\n",
       "      <td>0.870279</td>\n",
       "      <td>2</td>\n",
       "      <td>5</td>\n",
       "      <td>3</td>\n",
       "      <td>0.955090</td>\n",
       "    </tr>\n",
       "    <tr>\n",
       "      <th>...</th>\n",
       "      <td>...</td>\n",
       "      <td>...</td>\n",
       "      <td>...</td>\n",
       "      <td>...</td>\n",
       "      <td>...</td>\n",
       "      <td>...</td>\n",
       "      <td>...</td>\n",
       "    </tr>\n",
       "    <tr>\n",
       "      <th>3023</th>\n",
       "      <td>0.186916</td>\n",
       "      <td>0.500000</td>\n",
       "      <td>0.418651</td>\n",
       "      <td>1</td>\n",
       "      <td>7</td>\n",
       "      <td>3</td>\n",
       "      <td>0.743969</td>\n",
       "    </tr>\n",
       "    <tr>\n",
       "      <th>3024</th>\n",
       "      <td>0.350877</td>\n",
       "      <td>0.428571</td>\n",
       "      <td>0.357143</td>\n",
       "      <td>1</td>\n",
       "      <td>3</td>\n",
       "      <td>2</td>\n",
       "      <td>0.723532</td>\n",
       "    </tr>\n",
       "    <tr>\n",
       "      <th>3025</th>\n",
       "      <td>0.230088</td>\n",
       "      <td>0.571429</td>\n",
       "      <td>0.499248</td>\n",
       "      <td>2</td>\n",
       "      <td>8</td>\n",
       "      <td>3</td>\n",
       "      <td>0.798601</td>\n",
       "    </tr>\n",
       "    <tr>\n",
       "      <th>3026</th>\n",
       "      <td>0.173913</td>\n",
       "      <td>0.666667</td>\n",
       "      <td>0.448652</td>\n",
       "      <td>1</td>\n",
       "      <td>7</td>\n",
       "      <td>4</td>\n",
       "      <td>0.665344</td>\n",
       "    </tr>\n",
       "    <tr>\n",
       "      <th>3027</th>\n",
       "      <td>0.238095</td>\n",
       "      <td>0.500000</td>\n",
       "      <td>0.387731</td>\n",
       "      <td>3</td>\n",
       "      <td>7</td>\n",
       "      <td>5</td>\n",
       "      <td>0.649558</td>\n",
       "    </tr>\n",
       "  </tbody>\n",
       "</table>\n",
       "<p>3028 rows × 7 columns</p>\n",
       "</div>"
      ],
      "text/plain": [
       "      String_similarity  Max_similarity  Average_similarity  \\\n",
       "0              1.000000        1.000000            1.000000   \n",
       "1              0.764045        0.941176            0.914751   \n",
       "2              0.764045        0.941176            0.914751   \n",
       "3              0.764045        0.941176            0.914751   \n",
       "4              0.674419        1.000000            0.870279   \n",
       "...                 ...             ...                 ...   \n",
       "3023           0.186916        0.500000            0.418651   \n",
       "3024           0.350877        0.428571            0.357143   \n",
       "3025           0.230088        0.571429            0.499248   \n",
       "3026           0.173913        0.666667            0.448652   \n",
       "3027           0.238095        0.500000            0.387731   \n",
       "\n",
       "      More_then_average  String_1  String_2  cosine_similarity  \n",
       "0                     4         4         4           1.000000  \n",
       "1                     2         4         3           0.966284  \n",
       "2                     2         4         3           0.966284  \n",
       "3                     2         4         3           0.966284  \n",
       "4                     2         5         3           0.955090  \n",
       "...                 ...       ...       ...                ...  \n",
       "3023                  1         7         3           0.743969  \n",
       "3024                  1         3         2           0.723532  \n",
       "3025                  2         8         3           0.798601  \n",
       "3026                  1         7         4           0.665344  \n",
       "3027                  3         7         5           0.649558  \n",
       "\n",
       "[3028 rows x 7 columns]"
      ]
     },
     "execution_count": 4,
     "metadata": {},
     "output_type": "execute_result"
    }
   ],
   "source": [
    "X"
   ]
  },
  {
   "cell_type": "code",
   "execution_count": 5,
   "metadata": {
    "collapsed": true
   },
   "outputs": [],
   "source": [
    "X_train, X_test, y_train, y_test = train_test_split(X, y, test_size=0.15, random_state=45)"
   ]
  },
  {
   "cell_type": "code",
   "execution_count": 6,
   "metadata": {
    "collapsed": true
   },
   "outputs": [],
   "source": [
    "clf = RandomForestClassifier()"
   ]
  },
  {
   "cell_type": "code",
   "execution_count": 7,
   "metadata": {
    "collapsed": true
   },
   "outputs": [],
   "source": [
    "parametrs = {'n_estimators': range(60, 100, 3), 'max_depth': range(7, 20)}"
   ]
  },
  {
   "cell_type": "code",
   "execution_count": 8,
   "metadata": {
    "collapsed": true
   },
   "outputs": [],
   "source": [
    "gs_clf = GridSearchCV(estimator=clf, param_grid=parametrs, cv=5, n_jobs=-1, verbose=1)"
   ]
  },
  {
   "cell_type": "code",
   "execution_count": 9,
   "metadata": {},
   "outputs": [
    {
     "name": "stdout",
     "output_type": "stream",
     "text": [
      "Fitting 5 folds for each of 182 candidates, totalling 910 fits\n"
     ]
    },
    {
     "data": {
      "text/plain": [
       "GridSearchCV(cv=5, estimator=RandomForestClassifier(), n_jobs=-1,\n",
       "             param_grid={'max_depth': range(7, 20),\n",
       "                         'n_estimators': range(60, 100, 3)},\n",
       "             verbose=1)"
      ]
     },
     "execution_count": 9,
     "metadata": {},
     "output_type": "execute_result"
    }
   ],
   "source": [
    "gs_clf.fit(X_train, y_train)"
   ]
  },
  {
   "cell_type": "code",
   "execution_count": 10,
   "metadata": {
    "scrolled": true
   },
   "outputs": [
    {
     "data": {
      "text/plain": [
       "{'max_depth': 17, 'n_estimators': 63}"
      ]
     },
     "execution_count": 10,
     "metadata": {},
     "output_type": "execute_result"
    }
   ],
   "source": [
    "gs_clf.best_params_"
   ]
  },
  {
   "cell_type": "code",
   "execution_count": 11,
   "metadata": {},
   "outputs": [
    {
     "data": {
      "text/plain": [
       "0.9191681462732803"
      ]
     },
     "execution_count": 11,
     "metadata": {},
     "output_type": "execute_result"
    }
   ],
   "source": [
    "gs_clf.best_score_"
   ]
  },
  {
   "cell_type": "code",
   "execution_count": 12,
   "metadata": {
    "collapsed": true
   },
   "outputs": [],
   "source": [
    "best_clf = gs_clf.best_estimator_"
   ]
  },
  {
   "cell_type": "code",
   "execution_count": 13,
   "metadata": {},
   "outputs": [
    {
     "data": {
      "text/plain": [
       "array([0.16364294, 0.24987795, 0.21876626, 0.01650539, 0.07618397,\n",
       "       0.0390787 , 0.23594479])"
      ]
     },
     "execution_count": 13,
     "metadata": {},
     "output_type": "execute_result"
    }
   ],
   "source": [
    "best_clf.feature_importances_"
   ]
  },
  {
   "cell_type": "code",
   "execution_count": 14,
   "metadata": {},
   "outputs": [
    {
     "data": {
      "text/plain": [
       "0.9186813186813186"
      ]
     },
     "execution_count": 14,
     "metadata": {},
     "output_type": "execute_result"
    }
   ],
   "source": [
    "best_clf.score(X_test, y_test)"
   ]
  },
  {
   "cell_type": "code",
   "execution_count": 15,
   "metadata": {
    "collapsed": true
   },
   "outputs": [],
   "source": [
    "df['prediction'] = best_clf.predict_proba(X)[:,1]"
   ]
  },
  {
   "cell_type": "code",
   "execution_count": 16,
   "metadata": {
    "collapsed": true
   },
   "outputs": [],
   "source": [
    "df.to_excel('withRFpred.xlsx')"
   ]
  },
  {
   "cell_type": "code",
   "execution_count": 17,
   "metadata": {},
   "outputs": [
    {
     "data": {
      "text/html": [
       "<div>\n",
       "<style scoped>\n",
       "    .dataframe tbody tr th:only-of-type {\n",
       "        vertical-align: middle;\n",
       "    }\n",
       "\n",
       "    .dataframe tbody tr th {\n",
       "        vertical-align: top;\n",
       "    }\n",
       "\n",
       "    .dataframe thead th {\n",
       "        text-align: right;\n",
       "    }\n",
       "</style>\n",
       "<table border=\"1\" class=\"dataframe\">\n",
       "  <thead>\n",
       "    <tr style=\"text-align: right;\">\n",
       "      <th></th>\n",
       "      <th>target</th>\n",
       "      <th>№ п/п (КЛЮЧ)</th>\n",
       "      <th>Отрасль</th>\n",
       "      <th>Наименование</th>\n",
       "      <th>String_similarity</th>\n",
       "      <th>Max_similarity</th>\n",
       "      <th>Average_similarity</th>\n",
       "      <th>More_then_average</th>\n",
       "      <th>String_1</th>\n",
       "      <th>String_2</th>\n",
       "      <th>cosine_similarity</th>\n",
       "      <th>prediction</th>\n",
       "    </tr>\n",
       "  </thead>\n",
       "  <tbody>\n",
       "    <tr>\n",
       "      <th>0</th>\n",
       "      <td>1</td>\n",
       "      <td>11922</td>\n",
       "      <td>Ремонт часов и ювелирных изделий</td>\n",
       "      <td>Ремонт часов и ювелирных изделий</td>\n",
       "      <td>1.000000</td>\n",
       "      <td>1.000000</td>\n",
       "      <td>1.000000</td>\n",
       "      <td>4</td>\n",
       "      <td>4</td>\n",
       "      <td>4</td>\n",
       "      <td>1.000000</td>\n",
       "      <td>0.984127</td>\n",
       "    </tr>\n",
       "    <tr>\n",
       "      <th>1</th>\n",
       "      <td>1</td>\n",
       "      <td>1836</td>\n",
       "      <td>Деятельность туристических агентств и туроператоров</td>\n",
       "      <td>Туристические агентства и туроператоры</td>\n",
       "      <td>0.764045</td>\n",
       "      <td>0.941176</td>\n",
       "      <td>0.914751</td>\n",
       "      <td>2</td>\n",
       "      <td>4</td>\n",
       "      <td>3</td>\n",
       "      <td>0.966284</td>\n",
       "      <td>1.000000</td>\n",
       "    </tr>\n",
       "    <tr>\n",
       "      <th>2</th>\n",
       "      <td>1</td>\n",
       "      <td>1835</td>\n",
       "      <td>Деятельность туристических агентств и туроператоров</td>\n",
       "      <td>Туристические агентства и туроператоры</td>\n",
       "      <td>0.764045</td>\n",
       "      <td>0.941176</td>\n",
       "      <td>0.914751</td>\n",
       "      <td>2</td>\n",
       "      <td>4</td>\n",
       "      <td>3</td>\n",
       "      <td>0.966284</td>\n",
       "      <td>1.000000</td>\n",
       "    </tr>\n",
       "    <tr>\n",
       "      <th>3</th>\n",
       "      <td>1</td>\n",
       "      <td>6049</td>\n",
       "      <td>Деятельность туристических агентств и туроператоров</td>\n",
       "      <td>Туристические агентства и туроператоры</td>\n",
       "      <td>0.764045</td>\n",
       "      <td>0.941176</td>\n",
       "      <td>0.914751</td>\n",
       "      <td>2</td>\n",
       "      <td>4</td>\n",
       "      <td>3</td>\n",
       "      <td>0.966284</td>\n",
       "      <td>1.000000</td>\n",
       "    </tr>\n",
       "    <tr>\n",
       "      <th>4</th>\n",
       "      <td>1</td>\n",
       "      <td>2486</td>\n",
       "      <td>Предоставление услуг парикмахерскими и салонами красоты</td>\n",
       "      <td>Парикмахерские и салоны красоты</td>\n",
       "      <td>0.674419</td>\n",
       "      <td>1.000000</td>\n",
       "      <td>0.870279</td>\n",
       "      <td>2</td>\n",
       "      <td>5</td>\n",
       "      <td>3</td>\n",
       "      <td>0.955090</td>\n",
       "      <td>1.000000</td>\n",
       "    </tr>\n",
       "    <tr>\n",
       "      <th>...</th>\n",
       "      <td>...</td>\n",
       "      <td>...</td>\n",
       "      <td>...</td>\n",
       "      <td>...</td>\n",
       "      <td>...</td>\n",
       "      <td>...</td>\n",
       "      <td>...</td>\n",
       "      <td>...</td>\n",
       "      <td>...</td>\n",
       "      <td>...</td>\n",
       "      <td>...</td>\n",
       "      <td>...</td>\n",
       "    </tr>\n",
       "    <tr>\n",
       "      <th>3023</th>\n",
       "      <td>1</td>\n",
       "      <td>12671</td>\n",
       "      <td>Торговля розничная мясом и мясными продуктами в специализированных магазинах</td>\n",
       "      <td>Рестораны быстрого обслуживания</td>\n",
       "      <td>0.186916</td>\n",
       "      <td>0.500000</td>\n",
       "      <td>0.418651</td>\n",
       "      <td>1</td>\n",
       "      <td>7</td>\n",
       "      <td>3</td>\n",
       "      <td>0.743969</td>\n",
       "      <td>0.713607</td>\n",
       "    </tr>\n",
       "    <tr>\n",
       "      <th>3024</th>\n",
       "      <td>0</td>\n",
       "      <td>12687</td>\n",
       "      <td>Производство электромонтажных работ</td>\n",
       "      <td>Строительные материалы</td>\n",
       "      <td>0.350877</td>\n",
       "      <td>0.428571</td>\n",
       "      <td>0.357143</td>\n",
       "      <td>1</td>\n",
       "      <td>3</td>\n",
       "      <td>2</td>\n",
       "      <td>0.723532</td>\n",
       "      <td>0.005861</td>\n",
       "    </tr>\n",
       "    <tr>\n",
       "      <th>3025</th>\n",
       "      <td>1</td>\n",
       "      <td>12694</td>\n",
       "      <td>Деятельность предприятий общественного питания по прочим видам организации питания</td>\n",
       "      <td>Рестораны быстрого обслуживания</td>\n",
       "      <td>0.230088</td>\n",
       "      <td>0.571429</td>\n",
       "      <td>0.499248</td>\n",
       "      <td>2</td>\n",
       "      <td>8</td>\n",
       "      <td>3</td>\n",
       "      <td>0.798601</td>\n",
       "      <td>1.000000</td>\n",
       "    </tr>\n",
       "    <tr>\n",
       "      <th>3026</th>\n",
       "      <td>0</td>\n",
       "      <td>12702</td>\n",
       "      <td>Торговля розничная по почте или по информационно-коммуникационной сети Интернет</td>\n",
       "      <td>Широкий ассортимент товаров для дома</td>\n",
       "      <td>0.173913</td>\n",
       "      <td>0.666667</td>\n",
       "      <td>0.448652</td>\n",
       "      <td>1</td>\n",
       "      <td>7</td>\n",
       "      <td>4</td>\n",
       "      <td>0.665344</td>\n",
       "      <td>0.002810</td>\n",
       "    </tr>\n",
       "    <tr>\n",
       "      <th>3027</th>\n",
       "      <td>0</td>\n",
       "      <td>12725</td>\n",
       "      <td>Торговля розничная по почте или по информационно-коммуникационной сети Интернет</td>\n",
       "      <td>Оборудование и мебель для дома (кроме приборов)</td>\n",
       "      <td>0.238095</td>\n",
       "      <td>0.500000</td>\n",
       "      <td>0.387731</td>\n",
       "      <td>3</td>\n",
       "      <td>7</td>\n",
       "      <td>5</td>\n",
       "      <td>0.649558</td>\n",
       "      <td>0.007819</td>\n",
       "    </tr>\n",
       "  </tbody>\n",
       "</table>\n",
       "<p>3028 rows × 12 columns</p>\n",
       "</div>"
      ],
      "text/plain": [
       "      target  № п/п (КЛЮЧ)  \\\n",
       "0          1         11922   \n",
       "1          1          1836   \n",
       "2          1          1835   \n",
       "3          1          6049   \n",
       "4          1          2486   \n",
       "...      ...           ...   \n",
       "3023       1         12671   \n",
       "3024       0         12687   \n",
       "3025       1         12694   \n",
       "3026       0         12702   \n",
       "3027       0         12725   \n",
       "\n",
       "                                                                                 Отрасль  \\\n",
       "0                                                       Ремонт часов и ювелирных изделий   \n",
       "1                                    Деятельность туристических агентств и туроператоров   \n",
       "2                                    Деятельность туристических агентств и туроператоров   \n",
       "3                                    Деятельность туристических агентств и туроператоров   \n",
       "4                                Предоставление услуг парикмахерскими и салонами красоты   \n",
       "...                                                                                  ...   \n",
       "3023        Торговля розничная мясом и мясными продуктами в специализированных магазинах   \n",
       "3024                                                 Производство электромонтажных работ   \n",
       "3025  Деятельность предприятий общественного питания по прочим видам организации питания   \n",
       "3026     Торговля розничная по почте или по информационно-коммуникационной сети Интернет   \n",
       "3027     Торговля розничная по почте или по информационно-коммуникационной сети Интернет   \n",
       "\n",
       "                                         Наименование  String_similarity  \\\n",
       "0                    Ремонт часов и ювелирных изделий           1.000000   \n",
       "1              Туристические агентства и туроператоры           0.764045   \n",
       "2              Туристические агентства и туроператоры           0.764045   \n",
       "3              Туристические агентства и туроператоры           0.764045   \n",
       "4                     Парикмахерские и салоны красоты           0.674419   \n",
       "...                                               ...                ...   \n",
       "3023                  Рестораны быстрого обслуживания           0.186916   \n",
       "3024                           Строительные материалы           0.350877   \n",
       "3025                  Рестораны быстрого обслуживания           0.230088   \n",
       "3026             Широкий ассортимент товаров для дома           0.173913   \n",
       "3027  Оборудование и мебель для дома (кроме приборов)           0.238095   \n",
       "\n",
       "      Max_similarity  Average_similarity  More_then_average  String_1  \\\n",
       "0           1.000000            1.000000                  4         4   \n",
       "1           0.941176            0.914751                  2         4   \n",
       "2           0.941176            0.914751                  2         4   \n",
       "3           0.941176            0.914751                  2         4   \n",
       "4           1.000000            0.870279                  2         5   \n",
       "...              ...                 ...                ...       ...   \n",
       "3023        0.500000            0.418651                  1         7   \n",
       "3024        0.428571            0.357143                  1         3   \n",
       "3025        0.571429            0.499248                  2         8   \n",
       "3026        0.666667            0.448652                  1         7   \n",
       "3027        0.500000            0.387731                  3         7   \n",
       "\n",
       "      String_2  cosine_similarity  prediction  \n",
       "0            4           1.000000    0.984127  \n",
       "1            3           0.966284    1.000000  \n",
       "2            3           0.966284    1.000000  \n",
       "3            3           0.966284    1.000000  \n",
       "4            3           0.955090    1.000000  \n",
       "...        ...                ...         ...  \n",
       "3023         3           0.743969    0.713607  \n",
       "3024         2           0.723532    0.005861  \n",
       "3025         3           0.798601    1.000000  \n",
       "3026         4           0.665344    0.002810  \n",
       "3027         5           0.649558    0.007819  \n",
       "\n",
       "[3028 rows x 12 columns]"
      ]
     },
     "execution_count": 17,
     "metadata": {},
     "output_type": "execute_result"
    }
   ],
   "source": [
    "df"
   ]
  },
  {
   "cell_type": "code",
   "execution_count": 18,
   "metadata": {
    "collapsed": true
   },
   "outputs": [],
   "source": [
    "pickle.dump(best_clf, open('RandomForest_model.sav', 'wb'))"
   ]
  },
  {
   "cell_type": "markdown",
   "metadata": {},
   "source": [
    "# -----------------------------------------------------------------------------------------11k"
   ]
  },
  {
   "cell_type": "code",
   "execution_count": 243,
   "metadata": {
    "collapsed": true
   },
   "outputs": [],
   "source": [
    "df_11k = pd.read_excel('11k_withFeatures.xlsx', index_col=0)"
   ]
  },
  {
   "cell_type": "code",
   "execution_count": 248,
   "metadata": {
    "collapsed": true
   },
   "outputs": [],
   "source": [
    "df_11k['prediction'] = best_clf.predict_proba(df_11k.drop(['ИНН', '№ п/п (КЛЮЧ)', 'Отрасль', 'МСС наименование'], axis=1))[:,1]"
   ]
  },
  {
   "cell_type": "code",
   "execution_count": 254,
   "metadata": {
    "collapsed": true
   },
   "outputs": [],
   "source": [
    "df_11k.sort_values(by='prediction', ascending=False).to_excel('С разметкой.xlsx')"
   ]
  },
  {
   "cell_type": "code",
   "execution_count": 1,
   "metadata": {
    "scrolled": true
   },
   "outputs": [],
   "source": [
    "#df_11k[(0.45 <= df_11k['prediction']) & (df_11k['prediction'] <= 0.55)].sort_values(by='prediction', ascending=False)"
   ]
  },
  {
   "cell_type": "code",
   "execution_count": 267,
   "metadata": {},
   "outputs": [
    {
     "data": {
      "text/plain": [
       "<matplotlib.axes._subplots.AxesSubplot at 0x289cd5ee948>"
      ]
     },
     "execution_count": 267,
     "metadata": {},
     "output_type": "execute_result"
    },
    {
     "data": {
      "image/png": "[encoded data removed]",
      "text/plain": [
       "<Figure size 432x288 with 1 Axes>"
      ]
     },
     "metadata": {
      "needs_background": "light"
     },
     "output_type": "display_data"
    }
   ],
   "source": [
    "df['cosine_similarity'].hist(bins=50)"
   ]
  },
  {
   "cell_type": "code",
   "execution_count": null,
   "metadata": {
    "collapsed": true
   },
   "outputs": [],
   "source": []
  }
 ],
 "metadata": {
  "kernelspec": {
   "display_name": "Python 3",
   "language": "python",
   "name": "python3"
  },
  "language_info": {
   "codemirror_mode": {
    "name": "ipython",
    "version": 3
   },
   "file_extension": ".py",
   "mimetype": "text/x-python",
   "name": "python",
   "nbconvert_exporter": "python",
   "pygments_lexer": "ipython3",
   "version": "3.6.1"
  }
 },
 "nbformat": 4,
 "nbformat_minor": 4
}

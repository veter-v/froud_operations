{
 "cells": [
  {
   "cell_type": "code",
   "execution_count": 14,
   "id": "4bc9be92-bf0e-4aad-aafe-8ec3e16de869",
   "metadata": {
    "execution": {
     "iopub.execute_input": "2022-02-24T07:35:50.509612Z",
     "iopub.status.busy": "2022-02-24T07:35:50.509372Z",
     "iopub.status.idle": "2022-02-24T07:35:53.576949Z",
     "shell.execute_reply": "2022-02-24T07:35:53.576164Z",
     "shell.execute_reply.started": "2022-02-24T07:35:50.509591Z"
    },
    "tags": []
   },
   "outputs": [
    {
     "name": "stdout",
     "output_type": "stream",
     "text": [
      "Looking in indexes: http://mirror.ca.sbrf.ru/pypi/simple\n",
      "Requirement already satisfied: lightgbm in /opt/app-root/lib/python3.6/site-packages (3.3.2)\n",
      "Requirement already satisfied: catboost in /opt/app-root/lib/python3.6/site-packages (1.0.4)\n",
      "Requirement already satisfied: seaborn in /opt/app-root/lib/python3.6/site-packages (0.11.2)\n",
      "Requirement already satisfied: wheel in /opt/app-root/lib/python3.6/site-packages (from lightgbm) (0.37.1)\n",
      "Requirement already satisfied: numpy in /opt/app-root/lib/python3.6/site-packages (from lightgbm) (1.18.5)\n",
      "Requirement already satisfied: scikit-learn!=0.22.0 in /opt/app-root/lib/python3.6/site-packages (from lightgbm) (0.24.2)\n",
      "Requirement already satisfied: scipy in /opt/app-root/lib/python3.6/site-packages (from lightgbm) (1.5.4)\n",
      "Requirement already satisfied: matplotlib in /opt/app-root/lib/python3.6/site-packages (from catboost) (3.3.4)\n",
      "Requirement already satisfied: graphviz in /opt/app-root/lib/python3.6/site-packages (from catboost) (0.19.1)\n",
      "Requirement already satisfied: pandas>=0.24.0 in /opt/app-root/lib/python3.6/site-packages (from catboost) (1.1.5)\n",
      "Requirement already satisfied: six in /opt/app-root/lib/python3.6/site-packages (from catboost) (1.16.0)\n",
      "Requirement already satisfied: plotly in /opt/app-root/lib/python3.6/site-packages (from catboost) (5.5.0)\n",
      "Requirement already satisfied: python-dateutil>=2.1 in /opt/app-root/lib/python3.6/site-packages (from matplotlib->catboost) (2.8.2)\n",
      "Requirement already satisfied: pyparsing!=2.0.4,!=2.1.2,!=2.1.6,>=2.0.3 in /opt/app-root/lib/python3.6/site-packages (from matplotlib->catboost) (3.0.6)\n",
      "Requirement already satisfied: cycler>=0.10 in /opt/app-root/lib/python3.6/site-packages (from matplotlib->catboost) (0.11.0)\n",
      "Requirement already satisfied: pillow>=6.2.0 in /opt/app-root/lib/python3.6/site-packages (from matplotlib->catboost) (8.4.0)\n",
      "Requirement already satisfied: kiwisolver>=1.0.1 in /opt/app-root/lib/python3.6/site-packages (from matplotlib->catboost) (1.3.1)\n",
      "Requirement already satisfied: pytz>=2017.2 in /opt/app-root/lib/python3.6/site-packages (from pandas>=0.24.0->catboost) (2021.3)\n",
      "Requirement already satisfied: threadpoolctl>=2.0.0 in /opt/app-root/lib/python3.6/site-packages (from scikit-learn!=0.22.0->lightgbm) (3.0.0)\n",
      "Requirement already satisfied: joblib>=0.11 in /opt/app-root/lib/python3.6/site-packages (from scikit-learn!=0.22.0->lightgbm) (1.1.0)\n",
      "Requirement already satisfied: tenacity>=6.2.0 in /opt/app-root/lib/python3.6/site-packages (from plotly->catboost) (8.0.1)\n"
     ]
    }
   ],
   "source": [
    "!pip install  lightgbm catboost seaborn"
   ]
  },
 
  {
   "cell_type": "code",
   "execution_count": 15,
   "id": "e4c7a6ca-fca5-4c42-9d85-8fb75dd8561c",
   "metadata": {
    "execution": {
     "iopub.execute_input": "2022-02-24T07:35:56.590671Z",
     "iopub.status.busy": "2022-02-24T07:35:56.590389Z",
     "iopub.status.idle": "2022-02-24T07:35:56.596346Z",
     "shell.execute_reply": "2022-02-24T07:35:56.595872Z",
     "shell.execute_reply.started": "2022-02-24T07:35:56.590647Z"
    },
    "tags": []
   },
   "outputs": [],
   "source": [
    "import time\n",
    "import numpy as np\n",
    "import pandas as pd\n",
    "from tqdm.notebook import tqdm_notebook \n",
    "import datetime as dt\n",
    "from sklearn.linear_model import RidgeClassifier, LogisticRegression\n",
    "from sklearn.ensemble import RandomForestClassifier\n",
    "from sklearn.preprocessing import OrdinalEncoder\n",
    "from catboost import CatBoostClassifier, Pool, cv\n",
    "import lightgbm as lgbm\n",
    "from sklearn.metrics import f1_score, precision_score, recall_score, roc_auc_score, classification_report\n",
    "from sklearn.model_selection import train_test_split, GridSearchCV, RandomizedSearchCV\n",
    "from sklearn.preprocessing import LabelEncoder\n",
    "import pickle\n",
    "from sklearn.utils.class_weight import compute_class_weight\n",
    "import seaborn as sns\n",
    "\n",
    "import warnings\n",
    "warnings.filterwarnings('ignore')\n",
    "\n",
    "pd.set_option('max_column', None)\n",
    "tqdm_notebook.pandas()"
   ]
  },
  {
   "cell_type": "code",
   "execution_count": 16,
   "id": "45b176c4-8088-4718-95e2-21a9b5f8dfb5",
   "metadata": {
    "execution": {
     "iopub.execute_input": "2022-02-24T07:35:59.507055Z",
     "iopub.status.busy": "2022-02-24T07:35:59.506803Z",
     "iopub.status.idle": "2022-02-24T07:36:43.527495Z",
     "shell.execute_reply": "2022-02-24T07:36:43.526518Z",
     "shell.execute_reply.started": "2022-02-24T07:35:59.507029Z"
    },
    "tags": []
   },
   "outputs": [],
   "source": [
    "data = pd.read_csv('dataset_1.csv', index_col=0, thousands=',')"
   ]
  },
  {
   "cell_type": "code",
   "execution_count": 78,
   "id": "ac950907-4767-4223-8867-c885b9dd1057",
   "metadata": {
    "execution": {
     "iopub.execute_input": "2022-02-14T09:34:15.499427Z",
     "iopub.status.busy": "2022-02-14T09:34:15.499266Z",
     "iopub.status.idle": "2022-02-14T09:34:19.593650Z",
     "shell.execute_reply": "2022-02-14T09:34:19.593023Z",
     "shell.execute_reply.started": "2022-02-14T09:34:15.499408Z"
    },
    "tags": []
   },
   "outputs": [
    {
     "name": "stdout",
     "output_type": "stream",
     "text": [
      "<class 'pandas.core.frame.DataFrame'>\n",
      "Int64Index: 13397810 entries, 0 to 13397809\n",
      "Data columns (total 25 columns):\n",
      " #   Column                  Non-Null Count     Dtype  \n",
      "---  ------                  --------------     -----  \n",
      " 0   ID_Operation_History    13397810 non-null  int64  \n",
      " 1   date_report             13397810 non-null  int64  \n",
      " 2   emploee_position        13397810 non-null  object \n",
      " 3   emp_age                 13397810 non-null  float64\n",
      " 4   report-start_job        13397810 non-null  int64  \n",
      " 5   finish_job-report       13397810 non-null  int64  \n",
      " 6   SOURCE_SYSTEM           13397810 non-null  object \n",
      " 7   OPERATION               13397810 non-null  object \n",
      " 8   CHANNEL_GR              13397810 non-null  object \n",
      " 9   urf_code_uni            13397810 non-null  object \n",
      " 10  QUANTITY                13397810 non-null  int64  \n",
      " 11  DESCRIPTION             13397810 non-null  object \n",
      " 12  IN_MOTIV                13397810 non-null  int64  \n",
      " 13  PRODUCT_NAME            13397810 non-null  object \n",
      " 14  vl_up                   13397810 non-null  int64  \n",
      " 15  insert-report           13397810 non-null  int64  \n",
      " 16  update-report           13397810 non-null  int64  \n",
      " 17  client_age              13350381 non-null  float64\n",
      " 18  client_is_emploee       13397810 non-null  int64  \n",
      " 19  emploee_in_vacation     13397810 non-null  int64  \n",
      " 20  emp_oper_per_day        10389123 non-null  float64\n",
      " 21  emp_oper_per_month      10389123 non-null  float64\n",
      " 22  day_of_week             13397810 non-null  object \n",
      " 23  client_product_per_day  13350381 non-null  float64\n",
      " 24  target                  13397810 non-null  int64  \n",
      "dtypes: float64(5), int64(12), object(8)\n",
      "memory usage: 2.6+ GB\n"
     ]
    }
   ],
   "source": [
    "data.info(null_counts=True)"
   ]
  },
  {
   "cell_type": "code",
   "execution_count": 130,
   "id": "0ff383d6-ab26-408f-8316-83a8c8fc0101",
   "metadata": {
    "execution": {
     "iopub.execute_input": "2022-02-14T11:02:12.885777Z",
     "iopub.status.busy": "2022-02-14T11:02:12.885551Z",
     "iopub.status.idle": "2022-02-14T11:02:12.888563Z",
     "shell.execute_reply": "2022-02-14T11:02:12.888073Z",
     "shell.execute_reply.started": "2022-02-14T11:02:12.885754Z"
    },
    "tags": []
   },
   "outputs": [],
   "source": [
    "cat_features = ['emploee_position', 'SOURCE_SYSTEM', 'OPERATION', 'CHANNEL_GR', 'urf_code_uni', 'PRODUCT_NAME', 'day_of_week', 'IN_MOTIV']\n",
    "#  'DESCRIPTION', 'IN_MOTIV'"
   ]
  },
  {
   "cell_type": "code",
   "execution_count": 81,
   "id": "84ca2588-f5d7-4de6-8add-00388804d780",
   "metadata": {
    "execution": {
     "iopub.execute_input": "2022-02-14T09:34:23.538761Z",
     "iopub.status.busy": "2022-02-14T09:34:23.538607Z",
     "iopub.status.idle": "2022-02-14T09:34:23.559071Z",
     "shell.execute_reply": "2022-02-14T09:34:23.558610Z",
     "shell.execute_reply.started": "2022-02-14T09:34:23.538743Z"
    },
    "tags": []
   },
   "outputs": [],
   "source": [
    "num_features = ['date_report', 'emp_age', 'report-start_job', 'finish_job-report', 'QUANTITY', 'vl_up', 'insert-report', 'update-report', 'client_age',\n",
    "                'client_is_emploee', 'emploee_in_vacation', 'emp_oper_per_day', 'emp_oper_per_month', 'client_product_per_day']"
   ]
  },
  {
   "cell_type": "code",
   "execution_count": 82,
   "id": "0e4c67df-37fc-499c-8416-29df1688b1a9",
   "metadata": {
    "execution": {
     "iopub.execute_input": "2022-02-14T09:34:23.559933Z",
     "iopub.status.busy": "2022-02-14T09:34:23.559782Z",
     "iopub.status.idle": "2022-02-14T09:34:23.934021Z",
     "shell.execute_reply": "2022-02-14T09:34:23.933442Z",
     "shell.execute_reply.started": "2022-02-14T09:34:23.559915Z"
    },
    "tags": []
   },
   "outputs": [],
   "source": [
    "data['emp_oper_per_day'] = data['emp_oper_per_day'].fillna(0)\n",
    "data['emp_oper_per_month'] = data['emp_oper_per_month'].fillna(0)\n",
    "data['client_product_per_day'] = data['client_product_per_day'].fillna(0)"
   ]
  },
  {
   "cell_type": "code",
   "execution_count": 83,
   "id": "7cc864ed-631a-4dd6-8fdd-a39f9bae9a0b",
   "metadata": {
    "execution": {
     "iopub.execute_input": "2022-02-14T09:34:23.935734Z",
     "iopub.status.busy": "2022-02-14T09:34:23.935563Z",
     "iopub.status.idle": "2022-02-14T09:34:30.015102Z",
     "shell.execute_reply": "2022-02-14T09:34:30.014500Z",
     "shell.execute_reply.started": "2022-02-14T09:34:23.935714Z"
    },
    "tags": []
   },
   "outputs": [],
   "source": [
    "data = data.dropna()"
   ]
  },
  {
   "cell_type": "code",
   "execution_count": 84,
   "id": "00ce509d-d8f6-404a-af84-a40220996a6d",
   "metadata": {
    "execution": {
     "iopub.execute_input": "2022-02-14T09:34:30.016543Z",
     "iopub.status.busy": "2022-02-14T09:34:30.016368Z",
     "iopub.status.idle": "2022-02-14T09:34:30.120743Z",
     "shell.execute_reply": "2022-02-14T09:34:30.120166Z",
     "shell.execute_reply.started": "2022-02-14T09:34:30.016523Z"
    },
    "tags": []
   },
   "outputs": [],
   "source": [
    "data['target'] = np.where(data['target'] != 0, 1, 0)"
   ]
  },
  {
   "cell_type": "code",
   "execution_count": 86,
   "id": "043c160d-c8ed-4a7f-9f54-8bc79b22439d",
   "metadata": {
    "execution": {
     "iopub.execute_input": "2022-02-14T09:34:30.170310Z",
     "iopub.status.busy": "2022-02-14T09:34:30.170155Z",
     "iopub.status.idle": "2022-02-14T09:34:30.225535Z",
     "shell.execute_reply": "2022-02-14T09:34:30.225097Z",
     "shell.execute_reply.started": "2022-02-14T09:34:30.170291Z"
    },
    "tags": []
   },
   "outputs": [
    {
     "data": {
      "text/plain": [
       "0    12026941\n",
       "1     1323440\n",
       "Name: target, dtype: int64"
      ]
     },
     "execution_count": 86,
     "metadata": {},
     "output_type": "execute_result"
    }
   ],
   "source": [
    "data['target'].value_counts()"
   ]
  },
  {
   "cell_type": "code",
   "execution_count": 9,
   "id": "833cdd9c-602d-4be7-bafe-c0ab0e3f24a4",
   "metadata": {
    "execution": {
     "iopub.execute_input": "2022-02-24T07:26:46.506541Z",
     "iopub.status.busy": "2022-02-24T07:26:46.506303Z",
     "iopub.status.idle": "2022-02-24T07:26:46.515162Z",
     "shell.execute_reply": "2022-02-24T07:26:46.514743Z",
     "shell.execute_reply.started": "2022-02-24T07:26:46.506519Z"
    },
    "tags": []
   },
   "outputs": [
    {
     "data": {
      "text/html": [
       "<div>\n",
       "<style scoped>\n",
       "    .dataframe tbody tr th:only-of-type {\n",
       "        vertical-align: middle;\n",
       "    }\n",
       "\n",
       "    .dataframe tbody tr th {\n",
       "        vertical-align: top;\n",
       "    }\n",
       "\n",
       "    .dataframe thead th {\n",
       "        text-align: right;\n",
       "    }\n",
       "</style>\n",
       "<table border=\"1\" class=\"dataframe\">\n",
       "  <thead>\n",
       "    <tr style=\"text-align: right;\">\n",
       "      <th></th>\n",
       "      <th>ID_Operation_History</th>\n",
       "      <th>date_report</th>\n",
       "      <th>emploee_position</th>\n",
       "      <th>emp_age</th>\n",
       "      <th>report-start_job</th>\n",
       "      <th>finish_job-report</th>\n",
       "      <th>SOURCE_SYSTEM</th>\n",
       "      <th>OPERATION</th>\n",
       "      <th>CHANNEL_GR</th>\n",
       "      <th>urf_code_uni</th>\n",
       "      <th>QUANTITY</th>\n",
       "      <th>DESCRIPTION</th>\n",
       "      <th>IN_MOTIV</th>\n",
       "      <th>PRODUCT_NAME</th>\n",
       "      <th>vl_up</th>\n",
       "      <th>insert-report</th>\n",
       "      <th>update-report</th>\n",
       "      <th>client_age</th>\n",
       "      <th>client_is_emploee</th>\n",
       "      <th>emploee_in_vacation</th>\n",
       "      <th>emp_oper_per_day</th>\n",
       "      <th>emp_oper_per_month</th>\n",
       "      <th>day_of_week</th>\n",
       "      <th>client_product_per_day</th>\n",
       "      <th>target</th>\n",
       "    </tr>\n",
       "  </thead>\n",
       "  <tbody>\n",
       "  </tbody>\n",
       "</table>\n",
       "</div>"
      ],
      "text/plain": [
       "Empty DataFrame\n",
       "Columns: [ID_Operation_History, date_report, emploee_position, emp_age, report-start_job, finish_job-report, SOURCE_SYSTEM, OPERATION, CHANNEL_GR, urf_code_uni, QUANTITY, DESCRIPTION, IN_MOTIV, PRODUCT_NAME, vl_up, insert-report, update-report, client_age, client_is_emploee, emploee_in_vacation, emp_oper_per_day, emp_oper_per_month, day_of_week, client_product_per_day, target]\n",
       "Index: []"
      ]
     },
     "execution_count": 9,
     "metadata": {},
     "output_type": "execute_result"
    }
   ],
   "source": [
    "data.head(0)"
   ]
  },
  {
   "cell_type": "markdown",
   "id": "78db3cb0-0865-45b0-8917-c50c8e78f4cc",
   "metadata": {
    "tags": []
   },
   "source": [
    "# Ridge and OrdinalEncoder"
   ]
  },
  {
   "cell_type": "code",
   "execution_count": 39,
   "id": "92cb2ad1-cf24-441f-a6c9-6e62b22ba6fb",
   "metadata": {
    "execution": {
     "iopub.execute_input": "2022-02-14T09:07:44.885630Z",
     "iopub.status.busy": "2022-02-14T09:07:44.885395Z",
     "iopub.status.idle": "2022-02-14T09:07:44.888297Z",
     "shell.execute_reply": "2022-02-14T09:07:44.887814Z",
     "shell.execute_reply.started": "2022-02-14T09:07:44.885609Z"
    }
   },
   "outputs": [],
   "source": [
    "dfR = data"
   ]
  },
  {
   "cell_type": "code",
   "execution_count": 40,
   "id": "0ccb1c6a-58af-44de-ac7d-c8d9a437fd13",
   "metadata": {
    "execution": {
     "iopub.execute_input": "2022-02-14T09:07:47.260993Z",
     "iopub.status.busy": "2022-02-14T09:07:47.260766Z",
     "iopub.status.idle": "2022-02-14T09:07:47.263621Z",
     "shell.execute_reply": "2022-02-14T09:07:47.263130Z",
     "shell.execute_reply.started": "2022-02-14T09:07:47.260970Z"
    },
    "tags": []
   },
   "outputs": [],
   "source": [
    "enc = OrdinalEncoder()"
   ]
  },
  {
   "cell_type": "code",
   "execution_count": 43,
   "id": "e364f887-a99d-449f-9b90-23c2ef9f5e20",
   "metadata": {
    "execution": {
     "iopub.execute_input": "2022-02-14T09:08:10.361401Z",
     "iopub.status.busy": "2022-02-14T09:08:10.361177Z",
     "iopub.status.idle": "2022-02-14T09:08:14.943288Z",
     "shell.execute_reply": "2022-02-14T09:08:14.942691Z",
     "shell.execute_reply.started": "2022-02-14T09:08:10.361378Z"
    },
    "tags": []
   },
   "outputs": [
    {
     "data": {
      "text/plain": [
       "OrdinalEncoder()"
      ]
     },
     "execution_count": 128,
     "metadata": {},
     "output_type": "execute_result"
    }
   ],
   "source": [
    "enc.fit(dfR[['emploee_position', 'SOURCE_SYSTEM', 'OPERATION', 'CHANNEL_GR', 'urf_code_uni', 'DESCRIPTION', 'PRODUCT_NAME', 'day_of_week']])"
   ]
  },
  {
   "cell_type": "code",
   "execution_count": 44,
   "id": "d1c57fc4-4f85-4c31-be2a-1b64d048ab36",
   "metadata": {
    "execution": {
     "iopub.execute_input": "2022-02-14T09:08:28.886432Z",
     "iopub.status.busy": "2022-02-14T09:08:28.886203Z",
     "iopub.status.idle": "2022-02-14T09:09:27.976953Z",
     "shell.execute_reply": "2022-02-14T09:09:27.976119Z",
     "shell.execute_reply.started": "2022-02-14T09:08:28.886409Z"
    },
    "tags": []
   },
   "outputs": [],
   "source": [
    "dfR[['emploee_position', 'SOURCE_SYSTEM', 'OPERATION', 'CHANNEL_GR',\n",
    "      'urf_code_uni', 'DESCRIPTION', 'PRODUCT_NAME', 'day_of_week']] = enc.fit_transform(\n",
    "    dfR[['emploee_position', 'SOURCE_SYSTEM', 'OPERATION', 'CHANNEL_GR',\n",
    "      'urf_code_uni', 'DESCRIPTION', 'PRODUCT_NAME', 'day_of_week']])"
   ]
  },
  {
   "cell_type": "code",
   "execution_count": 45,
   "id": "e7d2be0a-1d9c-425d-bfa4-19647717bce4",
   "metadata": {
    "execution": {
     "iopub.execute_input": "2022-02-14T09:09:27.992625Z",
     "iopub.status.busy": "2022-02-14T09:09:27.992470Z",
     "iopub.status.idle": "2022-02-14T09:09:28.008265Z",
     "shell.execute_reply": "2022-02-14T09:09:28.007841Z",
     "shell.execute_reply.started": "2022-02-14T09:09:27.992607Z"
    },
    "tags": []
   },
   "outputs": [
    {
     "data": {
      "text/html": [
       "<div>\n",
       "<style scoped>\n",
       "    .dataframe tbody tr th:only-of-type {\n",
       "        vertical-align: middle;\n",
       "    }\n",
       "\n",
       "    .dataframe tbody tr th {\n",
       "        vertical-align: top;\n",
       "    }\n",
       "\n",
       "    .dataframe thead th {\n",
       "        text-align: right;\n",
       "    }\n",
       "</style>\n",
       "<table border=\"1\" class=\"dataframe\">\n",
       "  <thead>\n",
       "    <tr style=\"text-align: right;\">\n",
       "      <th></th>\n",
       "      <th>ID_Operation_History</th>\n",
       "      <th>date_report</th>\n",
       "      <th>emploee_position</th>\n",
       "      <th>emp_age</th>\n",
       "      <th>report-start_job</th>\n",
       "      <th>finish_job-report</th>\n",
       "      <th>SOURCE_SYSTEM</th>\n",
       "      <th>OPERATION</th>\n",
       "      <th>CHANNEL_GR</th>\n",
       "      <th>urf_code_uni</th>\n",
       "      <th>QUANTITY</th>\n",
       "      <th>DESCRIPTION</th>\n",
       "      <th>IN_MOTIV</th>\n",
       "      <th>PRODUCT_NAME</th>\n",
       "      <th>vl_up</th>\n",
       "      <th>insert-report</th>\n",
       "      <th>update-report</th>\n",
       "      <th>client_age</th>\n",
       "      <th>client_is_emploee</th>\n",
       "      <th>emploee_in_vacation</th>\n",
       "      <th>emp_oper_per_day</th>\n",
       "      <th>emp_oper_per_month</th>\n",
       "      <th>day_of_week</th>\n",
       "      <th>client_product_per_day</th>\n",
       "      <th>target</th>\n",
       "    </tr>\n",
       "  </thead>\n",
       "  <tbody>\n",
       "    <tr>\n",
       "      <th>0</th>\n",
       "      <td>25664113</td>\n",
       "      <td>9</td>\n",
       "      <td>19.0</td>\n",
       "      <td>35.904110</td>\n",
       "      <td>831</td>\n",
       "      <td>13</td>\n",
       "      <td>11.0</td>\n",
       "      <td>95.0</td>\n",
       "      <td>2.0</td>\n",
       "      <td>67.0</td>\n",
       "      <td>100</td>\n",
       "      <td>93.0</td>\n",
       "      <td>1</td>\n",
       "      <td>96.0</td>\n",
       "      <td>4</td>\n",
       "      <td>93</td>\n",
       "      <td>51</td>\n",
       "      <td>37.347945</td>\n",
       "      <td>0</td>\n",
       "      <td>0</td>\n",
       "      <td>14.0</td>\n",
       "      <td>265.0</td>\n",
       "      <td>1.0</td>\n",
       "      <td>3.0</td>\n",
       "      <td>0</td>\n",
       "    </tr>\n",
       "    <tr>\n",
       "      <th>1</th>\n",
       "      <td>25664134</td>\n",
       "      <td>18</td>\n",
       "      <td>76.0</td>\n",
       "      <td>20.972603</td>\n",
       "      <td>110</td>\n",
       "      <td>87794</td>\n",
       "      <td>9.0</td>\n",
       "      <td>104.0</td>\n",
       "      <td>2.0</td>\n",
       "      <td>663.0</td>\n",
       "      <td>100</td>\n",
       "      <td>93.0</td>\n",
       "      <td>1</td>\n",
       "      <td>19.0</td>\n",
       "      <td>5</td>\n",
       "      <td>84</td>\n",
       "      <td>42</td>\n",
       "      <td>30.476712</td>\n",
       "      <td>0</td>\n",
       "      <td>1</td>\n",
       "      <td>27.0</td>\n",
       "      <td>416.0</td>\n",
       "      <td>6.0</td>\n",
       "      <td>1.0</td>\n",
       "      <td>0</td>\n",
       "    </tr>\n",
       "    <tr>\n",
       "      <th>2</th>\n",
       "      <td>25664157</td>\n",
       "      <td>13</td>\n",
       "      <td>76.0</td>\n",
       "      <td>34.334247</td>\n",
       "      <td>556</td>\n",
       "      <td>32</td>\n",
       "      <td>9.0</td>\n",
       "      <td>95.0</td>\n",
       "      <td>2.0</td>\n",
       "      <td>676.0</td>\n",
       "      <td>100</td>\n",
       "      <td>93.0</td>\n",
       "      <td>1</td>\n",
       "      <td>95.0</td>\n",
       "      <td>24</td>\n",
       "      <td>89</td>\n",
       "      <td>47</td>\n",
       "      <td>54.975342</td>\n",
       "      <td>0</td>\n",
       "      <td>0</td>\n",
       "      <td>21.0</td>\n",
       "      <td>574.0</td>\n",
       "      <td>0.0</td>\n",
       "      <td>4.0</td>\n",
       "      <td>0</td>\n",
       "    </tr>\n",
       "    <tr>\n",
       "      <th>3</th>\n",
       "      <td>25664169</td>\n",
       "      <td>17</td>\n",
       "      <td>22.0</td>\n",
       "      <td>33.484932</td>\n",
       "      <td>42</td>\n",
       "      <td>64</td>\n",
       "      <td>9.0</td>\n",
       "      <td>115.0</td>\n",
       "      <td>2.0</td>\n",
       "      <td>1188.0</td>\n",
       "      <td>100</td>\n",
       "      <td>93.0</td>\n",
       "      <td>3</td>\n",
       "      <td>115.0</td>\n",
       "      <td>0</td>\n",
       "      <td>85</td>\n",
       "      <td>43</td>\n",
       "      <td>69.832877</td>\n",
       "      <td>0</td>\n",
       "      <td>0</td>\n",
       "      <td>30.0</td>\n",
       "      <td>520.0</td>\n",
       "      <td>5.0</td>\n",
       "      <td>9.0</td>\n",
       "      <td>0</td>\n",
       "    </tr>\n",
       "    <tr>\n",
       "      <th>4</th>\n",
       "      <td>25664176</td>\n",
       "      <td>23</td>\n",
       "      <td>79.0</td>\n",
       "      <td>54.564384</td>\n",
       "      <td>2149</td>\n",
       "      <td>4</td>\n",
       "      <td>9.0</td>\n",
       "      <td>95.0</td>\n",
       "      <td>2.0</td>\n",
       "      <td>443.0</td>\n",
       "      <td>100</td>\n",
       "      <td>93.0</td>\n",
       "      <td>1</td>\n",
       "      <td>95.0</td>\n",
       "      <td>24</td>\n",
       "      <td>79</td>\n",
       "      <td>37</td>\n",
       "      <td>44.830137</td>\n",
       "      <td>0</td>\n",
       "      <td>0</td>\n",
       "      <td>10.0</td>\n",
       "      <td>314.0</td>\n",
       "      <td>1.0</td>\n",
       "      <td>6.0</td>\n",
       "      <td>0</td>\n",
       "    </tr>\n",
       "  </tbody>\n",
       "</table>\n",
       "</div>"
      ],
      "text/plain": [
       "   ID_Operation_History  date_report  emploee_position    emp_age  \\\n",
       "0              25664113            9              19.0  35.904110   \n",
       "1              25664134           18              76.0  20.972603   \n",
       "2              25664157           13              76.0  34.334247   \n",
       "3              25664169           17              22.0  33.484932   \n",
       "4              25664176           23              79.0  54.564384   \n",
       "\n",
       "   report-start_job  finish_job-report  SOURCE_SYSTEM  OPERATION  CHANNEL_GR  \\\n",
       "0               831                 13           11.0       95.0         2.0   \n",
       "1               110              87794            9.0      104.0         2.0   \n",
       "2               556                 32            9.0       95.0         2.0   \n",
       "3                42                 64            9.0      115.0         2.0   \n",
       "4              2149                  4            9.0       95.0         2.0   \n",
       "\n",
       "   urf_code_uni  QUANTITY  DESCRIPTION  IN_MOTIV  PRODUCT_NAME  vl_up  \\\n",
       "0          67.0       100         93.0         1          96.0      4   \n",
       "1         663.0       100         93.0         1          19.0      5   \n",
       "2         676.0       100         93.0         1          95.0     24   \n",
       "3        1188.0       100         93.0         3         115.0      0   \n",
       "4         443.0       100         93.0         1          95.0     24   \n",
       "\n",
       "   insert-report  update-report  client_age  client_is_emploee  \\\n",
       "0             93             51   37.347945                  0   \n",
       "1             84             42   30.476712                  0   \n",
       "2             89             47   54.975342                  0   \n",
       "3             85             43   69.832877                  0   \n",
       "4             79             37   44.830137                  0   \n",
       "\n",
       "   emploee_in_vacation  emp_oper_per_day  emp_oper_per_month  day_of_week  \\\n",
       "0                    0              14.0               265.0          1.0   \n",
       "1                    1              27.0               416.0          6.0   \n",
       "2                    0              21.0               574.0          0.0   \n",
       "3                    0              30.0               520.0          5.0   \n",
       "4                    0              10.0               314.0          1.0   \n",
       "\n",
       "   client_product_per_day  target  \n",
       "0                     3.0       0  \n",
       "1                     1.0       0  \n",
       "2                     4.0       0  \n",
       "3                     9.0       0  \n",
       "4                     6.0       0  "
      ]
     },
     "execution_count": 45,
     "metadata": {},
     "output_type": "execute_result"
    }
   ],
   "source": [
    "dfR.head()"
   ]
  },
  {
   "cell_type": "code",
   "execution_count": 74,
   "id": "df40cff5-c7b1-4707-9dfe-3ed9eca871ed",
   "metadata": {
    "execution": {
     "iopub.execute_input": "2022-02-14T09:29:59.984209Z",
     "iopub.status.busy": "2022-02-14T09:29:59.983956Z",
     "iopub.status.idle": "2022-02-14T09:30:19.138416Z",
     "shell.execute_reply": "2022-02-14T09:30:19.137914Z",
     "shell.execute_reply.started": "2022-02-14T09:29:59.984186Z"
    },
    "tags": []
   },
   "outputs": [
    {
     "data": {
      "image/png": "[encoded data removed]",
      "text/plain": [
       "<Figure size 432x288 with 2 Axes>"
      ]
     },
     "metadata": {
      "needs_background": "light"
     },
     "output_type": "display_data"
    }
   ],
   "source": [
    "sns.heatmap(dfR.corr());"
   ]
  },
  {
   "cell_type": "code",
   "execution_count": 46,
   "id": "ea9b59cf-f2ac-4bd0-8056-9ff114bb9d0b",
   "metadata": {
    "execution": {
     "iopub.execute_input": "2022-02-14T09:09:41.885355Z",
     "iopub.status.busy": "2022-02-14T09:09:41.885100Z",
     "iopub.status.idle": "2022-02-14T09:09:43.789461Z",
     "shell.execute_reply": "2022-02-14T09:09:43.788871Z",
     "shell.execute_reply.started": "2022-02-14T09:09:41.885332Z"
    },
    "tags": []
   },
   "outputs": [],
   "source": [
    "X = dfR.drop(['target', 'ID_Operation_History'], axis=1)\n",
    "y = dfR['target']"
   ]
  },
  {
   "cell_type": "code",
   "execution_count": 47,
   "id": "0c01d9dd-0f53-49b3-89d1-a549d310b8ff",
   "metadata": {
    "execution": {
     "iopub.execute_input": "2022-02-14T09:09:43.978401Z",
     "iopub.status.busy": "2022-02-14T09:09:43.978180Z",
     "iopub.status.idle": "2022-02-14T09:09:50.218759Z",
     "shell.execute_reply": "2022-02-14T09:09:50.218175Z",
     "shell.execute_reply.started": "2022-02-14T09:09:43.978379Z"
    },
    "tags": []
   },
   "outputs": [],
   "source": [
    "X_train, X_test, y_train, y_test = train_test_split(X, y, test_size=0.4, random_state=42)"
   ]
  },
  {
   "cell_type": "code",
   "execution_count": 48,
   "id": "c9b8bcf4-a3b5-480c-b8a3-99344403b7a3",
   "metadata": {
    "execution": {
     "iopub.execute_input": "2022-02-14T09:09:50.233706Z",
     "iopub.status.busy": "2022-02-14T09:09:50.233544Z",
     "iopub.status.idle": "2022-02-14T09:09:50.269288Z",
     "shell.execute_reply": "2022-02-14T09:09:50.268826Z",
     "shell.execute_reply.started": "2022-02-14T09:09:50.233687Z"
    },
    "tags": []
   },
   "outputs": [
    {
     "data": {
      "text/plain": [
       "0    7215740\n",
       "1     794488\n",
       "Name: target, dtype: int64"
      ]
     },
     "execution_count": 48,
     "metadata": {},
     "output_type": "execute_result"
    }
   ],
   "source": [
    "y_train.value_counts()"
   ]
  },
  {
   "cell_type": "code",
   "execution_count": 49,
   "id": "4394eeae-e0b2-485a-97c3-848c11aca292",
   "metadata": {
    "execution": {
     "iopub.execute_input": "2022-02-14T09:09:50.270390Z",
     "iopub.status.busy": "2022-02-14T09:09:50.270227Z",
     "iopub.status.idle": "2022-02-14T09:09:50.296708Z",
     "shell.execute_reply": "2022-02-14T09:09:50.296259Z",
     "shell.execute_reply.started": "2022-02-14T09:09:50.270371Z"
    },
    "tags": []
   },
   "outputs": [
    {
     "data": {
      "text/plain": [
       "0    4811201\n",
       "1     528952\n",
       "Name: target, dtype: int64"
      ]
     },
     "execution_count": 49,
     "metadata": {},
     "output_type": "execute_result"
    }
   ],
   "source": [
    "y_test.value_counts()"
   ]
  },
  {
   "cell_type": "code",
   "execution_count": 50,
   "id": "7745df31-8fee-4d9d-b320-a9355103f6c0",
   "metadata": {
    "execution": {
     "iopub.execute_input": "2022-02-14T09:09:50.297632Z",
     "iopub.status.busy": "2022-02-14T09:09:50.297475Z",
     "iopub.status.idle": "2022-02-14T09:09:51.378962Z",
     "shell.execute_reply": "2022-02-14T09:09:51.378401Z",
     "shell.execute_reply.started": "2022-02-14T09:09:50.297614Z"
    },
    "tags": []
   },
   "outputs": [],
   "source": [
    "classes = np.unique(y_train)\n",
    "weights = compute_class_weight('balanced', classes, y_train)\n",
    "class_weights = dict(zip(classes, weights))"
   ]
  },
  {
   "cell_type": "code",
   "execution_count": 51,
   "id": "b55d1cef-f624-4a07-abe1-4f10ab399be4",
   "metadata": {
    "execution": {
     "iopub.execute_input": "2022-02-14T09:09:51.380005Z",
     "iopub.status.busy": "2022-02-14T09:09:51.379833Z",
     "iopub.status.idle": "2022-02-14T09:09:51.382528Z",
     "shell.execute_reply": "2022-02-14T09:09:51.382086Z",
     "shell.execute_reply.started": "2022-02-14T09:09:51.379984Z"
    },
    "tags": []
   },
   "outputs": [],
   "source": [
    "ridge = RidgeClassifier(class_weight=class_weights)"
   ]
  },
  {
   "cell_type": "code",
   "execution_count": 52,
   "id": "76209ffc-c351-4abb-add3-3aa5964f23a5",
   "metadata": {
    "execution": {
     "iopub.execute_input": "2022-02-14T09:09:51.383360Z",
     "iopub.status.busy": "2022-02-14T09:09:51.383211Z",
     "iopub.status.idle": "2022-02-14T09:09:58.563493Z",
     "shell.execute_reply": "2022-02-14T09:09:58.562968Z",
     "shell.execute_reply.started": "2022-02-14T09:09:51.383342Z"
    },
    "tags": []
   },
   "outputs": [
    {
     "data": {
      "text/plain": [
       "RidgeClassifier(class_weight={0: 0.5550524270552986, 1: 5.041125857155803})"
      ]
     },
     "execution_count": 52,
     "metadata": {},
     "output_type": "execute_result"
    }
   ],
   "source": [
    "ridge.fit(X_train, y_train)"
   ]
  },
  {
   "cell_type": "code",
   "execution_count": 54,
   "id": "f76374b4-8682-40d7-baae-9f70e7e21b55",
   "metadata": {
    "execution": {
     "iopub.execute_input": "2022-02-14T09:10:32.191435Z",
     "iopub.status.busy": "2022-02-14T09:10:32.191281Z",
     "iopub.status.idle": "2022-02-14T09:10:33.411053Z",
     "shell.execute_reply": "2022-02-14T09:10:33.410561Z",
     "shell.execute_reply.started": "2022-02-14T09:10:32.191416Z"
    },
    "tags": []
   },
   "outputs": [
    {
     "data": {
      "text/plain": [
       "0.9169420801239215"
      ]
     },
     "execution_count": 54,
     "metadata": {},
     "output_type": "execute_result"
    }
   ],
   "source": [
    "ridge.score(X_test, y_test)"
   ]
  },
  {
   "cell_type": "code",
   "execution_count": 55,
   "id": "43625391-99ef-401e-897f-943f2b4da65d",
   "metadata": {
    "execution": {
     "iopub.execute_input": "2022-02-14T09:10:33.412186Z",
     "iopub.status.busy": "2022-02-14T09:10:33.412005Z",
     "iopub.status.idle": "2022-02-14T09:10:35.194627Z",
     "shell.execute_reply": "2022-02-14T09:10:35.194127Z",
     "shell.execute_reply.started": "2022-02-14T09:10:33.412165Z"
    },
    "tags": []
   },
   "outputs": [
    {
     "data": {
      "text/plain": [
       "0.9167205977158204"
      ]
     },
     "execution_count": 55,
     "metadata": {},
     "output_type": "execute_result"
    }
   ],
   "source": [
    "ridge.score(X_train, y_train)"
   ]
  },
  {
   "cell_type": "code",
   "execution_count": 57,
   "id": "d6a54914-0b04-4006-b07e-f9a796aed7eb",
   "metadata": {
    "execution": {
     "iopub.execute_input": "2022-02-14T09:10:41.884996Z",
     "iopub.status.busy": "2022-02-14T09:10:41.884763Z",
     "iopub.status.idle": "2022-02-14T09:10:42.604071Z",
     "shell.execute_reply": "2022-02-14T09:10:42.603484Z",
     "shell.execute_reply.started": "2022-02-14T09:10:41.884973Z"
    },
    "tags": []
   },
   "outputs": [],
   "source": [
    "preds = ridge.predict(X_test)"
   ]
  },
  {
   "cell_type": "code",
   "execution_count": 58,
   "id": "bb8c63a3-230f-4f72-9cd5-d669381c5c36",
   "metadata": {
    "execution": {
     "iopub.execute_input": "2022-02-14T09:10:42.617573Z",
     "iopub.status.busy": "2022-02-14T09:10:42.617419Z",
     "iopub.status.idle": "2022-02-14T09:10:52.280387Z",
     "shell.execute_reply": "2022-02-14T09:10:52.279704Z",
     "shell.execute_reply.started": "2022-02-14T09:10:42.617556Z"
    },
    "tags": []
   },
   "outputs": [
    {
     "name": "stdout",
     "output_type": "stream",
     "text": [
      "              precision    recall  f1-score   support\n",
      "\n",
      "           0       0.99      0.92      0.95   4811201\n",
      "           1       0.55      0.93      0.69    528952\n",
      "\n",
      "    accuracy                           0.92   5340153\n",
      "   macro avg       0.77      0.92      0.82   5340153\n",
      "weighted avg       0.95      0.92      0.93   5340153\n",
      "\n"
     ]
    }
   ],
   "source": [
    "print(classification_report(y_test, preds))"
   ]
  },
  {
   "cell_type": "markdown",
   "id": "9b374840-ec3b-4650-ac9b-6de89f1dd435",
   "metadata": {
    "tags": []
   },
   "source": [
    "# Try Random Forest and get_dummies"
   ]
  },
  {
   "cell_type": "code",
   "execution_count": 18,
   "id": "11f9459e-2062-4a84-9f6c-69afaebf4df2",
   "metadata": {
    "execution": {
     "iopub.execute_input": "2022-02-11T10:04:54.344456Z",
     "iopub.status.busy": "2022-02-11T10:04:54.344185Z",
     "iopub.status.idle": "2022-02-11T10:09:47.679075Z",
     "shell.execute_reply": "2022-02-11T10:09:47.678028Z",
     "shell.execute_reply.started": "2022-02-11T10:04:54.344427Z"
    },
    "tags": []
   },
   "outputs": [],
   "source": [
    "df1 = pd.get_dummies(data[cat_features[:6]], drop_first=True)"
   ]
  },
  {
   "cell_type": "markdown",
   "id": "4f8122bc-63f4-450a-a2ed-249a66a2cbae",
   "metadata": {},
   "source": [
    "Посмотрела на количество части векторизованных категориальных признаков и стало грустно(((\n",
    "\n",
    "Перейдём, пожалуй, сразу к CatBoost"
   ]
  },
  {
   "cell_type": "code",
   "execution_count": null,
   "id": "c9f484f3-b865-43dd-a315-7b66303629c4",
   "metadata": {},
   "outputs": [],
   "source": [
    "data[num_features]"
   ]
  },
  {
   "cell_type": "markdown",
   "id": "d9e0b68d-0aab-412a-8101-01bef8e13e3f",
   "metadata": {
    "tags": []
   },
   "source": [
    "# Try CatBoost"
   ]
  },
  {
   "cell_type": "code",
   "execution_count": null,
   "id": "a8465676-0d4b-4510-b7bc-9c89a1c7b1fe",
   "metadata": {
    "tags": []
   },
   "outputs": [],
   "source": [
    "X = data.drop(['target', 'ID_Operation_History', 'DESCRIPTION'], axis=1)\n",
    "y = data['target']"
   ]
  },
  {
   "cell_type": "code",
   "execution_count": 10,
   "id": "d74f74db-2cfa-421d-8dca-39c6150ab9fc",
   "metadata": {
    "execution": {
     "iopub.execute_input": "2022-02-24T07:29:19.796001Z",
     "iopub.status.busy": "2022-02-24T07:29:19.795770Z",
     "iopub.status.idle": "2022-02-24T07:29:19.823235Z",
     "shell.execute_reply": "2022-02-24T07:29:19.822528Z",
     "shell.execute_reply.started": "2022-02-24T07:29:19.795980Z"
    },
    "tags": []
   },
   "outputs": [
    {
     "ename": "NameError",
     "evalue": "name 'X' is not defined",
     "output_type": "error",
     "traceback": [
      "\u001b[0;31m---------------------------------------------------------------------------\u001b[0m",
      "\u001b[0;31mNameError\u001b[0m                                 Traceback (most recent call last)",
      "\u001b[0;32m<ipython-input-10-8bb1e1d6631f>\u001b[0m in \u001b[0;36m<module>\u001b[0;34m\u001b[0m\n\u001b[0;32m----> 1\u001b[0;31m \u001b[0mX\u001b[0m\u001b[0;34m.\u001b[0m\u001b[0mhead\u001b[0m\u001b[0;34m(\u001b[0m\u001b[0;36m0\u001b[0m\u001b[0;34m)\u001b[0m\u001b[0;34m\u001b[0m\u001b[0;34m\u001b[0m\u001b[0m\n\u001b[0m",
      "\u001b[0;31mNameError\u001b[0m: name 'X' is not defined"
     ]
    }
   ],
   "source": [
    "X.head(0)"
   ]
  },
  {
   "cell_type": "code",
   "execution_count": null,
   "id": "a329e665-c251-4274-8b00-fddcd28856b1",
   "metadata": {},
   "outputs": [],
   "source": []
  },
  {
   "cell_type": "code",
   "execution_count": 133,
   "id": "965df9e0-ae29-4003-ba7b-1eb8b03068ef",
   "metadata": {
    "execution": {
     "iopub.execute_input": "2022-02-14T11:02:41.561650Z",
     "iopub.status.busy": "2022-02-14T11:02:41.561429Z",
     "iopub.status.idle": "2022-02-14T11:02:41.565192Z",
     "shell.execute_reply": "2022-02-14T11:02:41.564748Z",
     "shell.execute_reply.started": "2022-02-14T11:02:41.561627Z"
    },
    "tags": []
   },
   "outputs": [
    {
     "data": {
      "text/plain": [
       "(13350381, 22)"
      ]
     },
     "execution_count": 133,
     "metadata": {},
     "output_type": "execute_result"
    }
   ],
   "source": [
    "X.shape"
   ]
  },
  {
   "cell_type": "code",
   "execution_count": 134,
   "id": "da4a4964-b96c-4ea2-927e-db721753bf7a",
   "metadata": {
    "execution": {
     "iopub.execute_input": "2022-02-14T11:02:42.414007Z",
     "iopub.status.busy": "2022-02-14T11:02:42.413783Z",
     "iopub.status.idle": "2022-02-14T11:02:50.463744Z",
     "shell.execute_reply": "2022-02-14T11:02:50.462913Z",
     "shell.execute_reply.started": "2022-02-14T11:02:42.413987Z"
    },
    "tags": []
   },
   "outputs": [],
   "source": [
    "X_train, X_test, y_train, y_test = train_test_split(X, y, test_size=0.4, random_state=17)"
   ]
  },
  {
   "cell_type": "code",
   "execution_count": 135,
   "id": "f9d96483-a777-4306-8e1a-9fbeca10192d",
   "metadata": {
    "execution": {
     "iopub.execute_input": "2022-02-14T11:02:50.481761Z",
     "iopub.status.busy": "2022-02-14T11:02:50.481608Z",
     "iopub.status.idle": "2022-02-14T11:02:51.549843Z",
     "shell.execute_reply": "2022-02-14T11:02:51.549265Z",
     "shell.execute_reply.started": "2022-02-14T11:02:50.481743Z"
    },
    "tags": []
   },
   "outputs": [],
   "source": [
    "classes = np.unique(y_train)\n",
    "weights = compute_class_weight('balanced', classes, y_train)\n",
    "class_weights = dict(zip(classes, weights))"
   ]
  },
  {
   "cell_type": "code",
   "execution_count": 136,
   "id": "c6aba298-b426-42fb-a6a5-7f6a3c72f211",
   "metadata": {
    "execution": {
     "iopub.execute_input": "2022-02-14T11:02:51.551072Z",
     "iopub.status.busy": "2022-02-14T11:02:51.550894Z",
     "iopub.status.idle": "2022-02-14T11:02:51.554365Z",
     "shell.execute_reply": "2022-02-14T11:02:51.553933Z",
     "shell.execute_reply.started": "2022-02-14T11:02:51.551051Z"
    },
    "tags": []
   },
   "outputs": [
    {
     "data": {
      "text/plain": [
       "['emploee_position',\n",
       " 'SOURCE_SYSTEM',\n",
       " 'OPERATION',\n",
       " 'CHANNEL_GR',\n",
       " 'urf_code_uni',\n",
       " 'PRODUCT_NAME',\n",
       " 'day_of_week',\n",
       " 'IN_MOTIV']"
      ]
     },
     "execution_count": 136,
     "metadata": {},
     "output_type": "execute_result"
    }
   ],
   "source": [
    "cat_features"
   ]
  },
  {
   "cell_type": "code",
   "execution_count": 137,
   "id": "fef180ae-7c82-435f-9fe4-5cd3538d8f6f",
   "metadata": {
    "execution": {
     "iopub.execute_input": "2022-02-14T11:02:51.555208Z",
     "iopub.status.busy": "2022-02-14T11:02:51.555050Z",
     "iopub.status.idle": "2022-02-14T11:03:11.370581Z",
     "shell.execute_reply": "2022-02-14T11:03:11.369761Z",
     "shell.execute_reply.started": "2022-02-14T11:02:51.555190Z"
    },
    "tags": []
   },
   "outputs": [],
   "source": [
    "train_dataset = Pool(X_train, y_train, cat_features=cat_features)\n",
    "test_dataset = Pool(X_test, y_test, cat_features=cat_features)"
   ]
  },
  {
   "cell_type": "code",
   "execution_count": 138,
   "id": "2427a52b-2f6b-432e-af63-57a70379d176",
   "metadata": {
    "execution": {
     "iopub.execute_input": "2022-02-14T11:03:11.371964Z",
     "iopub.status.busy": "2022-02-14T11:03:11.371783Z",
     "iopub.status.idle": "2022-02-14T11:03:11.374995Z",
     "shell.execute_reply": "2022-02-14T11:03:11.374559Z",
     "shell.execute_reply.started": "2022-02-14T11:03:11.371940Z"
    },
    "tags": []
   },
   "outputs": [],
   "source": [
    "clf = CatBoostClassifier(class_weights=class_weights, task_type='GPU')"
   ]
  },
  {
   "cell_type": "code",
   "execution_count": 139,
   "id": "7060db56-cf31-4986-ac84-48437c80be2a",
   "metadata": {
    "collapsed": true,
    "execution": {
     "iopub.execute_input": "2022-02-14T11:03:11.375852Z",
     "iopub.status.busy": "2022-02-14T11:03:11.375699Z",
     "iopub.status.idle": "2022-02-14T11:10:12.782069Z",
     "shell.execute_reply": "2022-02-14T11:10:12.781473Z",
     "shell.execute_reply.started": "2022-02-14T11:03:11.375833Z"
    },
    "jupyter": {
     "outputs_hidden": true
    },
    "tags": []
   },
   "outputs": [
    {
     "name": "stdout",
     "output_type": "stream",
     "text": [
      "Learning rate set to 0.020562\n",
      "0:\tlearn: 0.6155852\ttotal: 370ms\tremaining: 6m 9s\n",
      "10:\tlearn: 0.2022420\ttotal: 4.06s\tremaining: 6m 5s\n",
      "20:\tlearn: 0.0925409\ttotal: 7.85s\tremaining: 6m 5s\n",
      "30:\tlearn: 0.0541104\ttotal: 11.8s\tremaining: 6m 9s\n",
      "40:\tlearn: 0.0393014\ttotal: 15.6s\tremaining: 6m 5s\n",
      "50:\tlearn: 0.0335502\ttotal: 19.7s\tremaining: 6m 6s\n",
      "60:\tlearn: 0.0296332\ttotal: 23.7s\tremaining: 6m 4s\n",
      "70:\tlearn: 0.0275608\ttotal: 27.6s\tremaining: 6m\n",
      "80:\tlearn: 0.0256266\ttotal: 31.5s\tremaining: 5m 57s\n",
      "90:\tlearn: 0.0238553\ttotal: 35.4s\tremaining: 5m 54s\n",
      "100:\tlearn: 0.0227564\ttotal: 39.1s\tremaining: 5m 48s\n",
      "110:\tlearn: 0.0220451\ttotal: 42.9s\tremaining: 5m 43s\n",
      "120:\tlearn: 0.0214136\ttotal: 46.5s\tremaining: 5m 38s\n",
      "130:\tlearn: 0.0208881\ttotal: 50.3s\tremaining: 5m 33s\n",
      "140:\tlearn: 0.0205153\ttotal: 54.2s\tremaining: 5m 30s\n",
      "150:\tlearn: 0.0202240\ttotal: 58s\tremaining: 5m 26s\n",
      "160:\tlearn: 0.0199951\ttotal: 1m 1s\tremaining: 5m 22s\n",
      "170:\tlearn: 0.0198123\ttotal: 1m 5s\tremaining: 5m 19s\n",
      "180:\tlearn: 0.0196509\ttotal: 1m 9s\tremaining: 5m 15s\n",
      "190:\tlearn: 0.0194930\ttotal: 1m 13s\tremaining: 5m 11s\n",
      "200:\tlearn: 0.0193642\ttotal: 1m 17s\tremaining: 5m 6s\n",
      "210:\tlearn: 0.0192581\ttotal: 1m 21s\tremaining: 5m 2s\n",
      "220:\tlearn: 0.0191431\ttotal: 1m 24s\tremaining: 4m 59s\n",
      "230:\tlearn: 0.0189774\ttotal: 1m 28s\tremaining: 4m 54s\n",
      "240:\tlearn: 0.0188150\ttotal: 1m 32s\tremaining: 4m 50s\n",
      "250:\tlearn: 0.0187103\ttotal: 1m 35s\tremaining: 4m 46s\n",
      "260:\tlearn: 0.0185928\ttotal: 1m 39s\tremaining: 4m 42s\n",
      "270:\tlearn: 0.0185083\ttotal: 1m 43s\tremaining: 4m 38s\n",
      "280:\tlearn: 0.0184225\ttotal: 1m 47s\tremaining: 4m 34s\n",
      "290:\tlearn: 0.0182948\ttotal: 1m 51s\tremaining: 4m 30s\n",
      "300:\tlearn: 0.0181831\ttotal: 1m 54s\tremaining: 4m 26s\n",
      "310:\tlearn: 0.0180859\ttotal: 1m 58s\tremaining: 4m 22s\n",
      "320:\tlearn: 0.0180036\ttotal: 2m 2s\tremaining: 4m 18s\n",
      "330:\tlearn: 0.0179346\ttotal: 2m 5s\tremaining: 4m 14s\n",
      "340:\tlearn: 0.0178658\ttotal: 2m 9s\tremaining: 4m 10s\n",
      "350:\tlearn: 0.0177987\ttotal: 2m 13s\tremaining: 4m 6s\n",
      "360:\tlearn: 0.0177349\ttotal: 2m 17s\tremaining: 4m 2s\n",
      "370:\tlearn: 0.0176534\ttotal: 2m 20s\tremaining: 3m 58s\n",
      "380:\tlearn: 0.0175604\ttotal: 2m 24s\tremaining: 3m 54s\n",
      "390:\tlearn: 0.0174921\ttotal: 2m 28s\tremaining: 3m 50s\n",
      "400:\tlearn: 0.0174412\ttotal: 2m 31s\tremaining: 3m 46s\n",
      "410:\tlearn: 0.0173996\ttotal: 2m 35s\tremaining: 3m 42s\n",
      "420:\tlearn: 0.0173574\ttotal: 2m 39s\tremaining: 3m 39s\n",
      "430:\tlearn: 0.0173077\ttotal: 2m 43s\tremaining: 3m 35s\n",
      "440:\tlearn: 0.0172534\ttotal: 2m 46s\tremaining: 3m 31s\n",
      "450:\tlearn: 0.0172057\ttotal: 2m 50s\tremaining: 3m 28s\n",
      "460:\tlearn: 0.0171655\ttotal: 2m 54s\tremaining: 3m 24s\n",
      "470:\tlearn: 0.0171324\ttotal: 2m 58s\tremaining: 3m 20s\n",
      "480:\tlearn: 0.0170930\ttotal: 3m 2s\tremaining: 3m 16s\n",
      "490:\tlearn: 0.0170587\ttotal: 3m 6s\tremaining: 3m 13s\n",
      "500:\tlearn: 0.0170124\ttotal: 3m 10s\tremaining: 3m 9s\n",
      "510:\tlearn: 0.0169821\ttotal: 3m 14s\tremaining: 3m 5s\n",
      "520:\tlearn: 0.0169536\ttotal: 3m 17s\tremaining: 3m 1s\n",
      "530:\tlearn: 0.0169330\ttotal: 3m 21s\tremaining: 2m 58s\n",
      "540:\tlearn: 0.0168938\ttotal: 3m 25s\tremaining: 2m 54s\n",
      "550:\tlearn: 0.0168609\ttotal: 3m 29s\tremaining: 2m 51s\n",
      "560:\tlearn: 0.0168341\ttotal: 3m 33s\tremaining: 2m 47s\n",
      "570:\tlearn: 0.0168130\ttotal: 3m 37s\tremaining: 2m 43s\n",
      "580:\tlearn: 0.0167702\ttotal: 3m 41s\tremaining: 2m 39s\n",
      "590:\tlearn: 0.0167505\ttotal: 3m 45s\tremaining: 2m 36s\n",
      "600:\tlearn: 0.0167201\ttotal: 3m 49s\tremaining: 2m 32s\n",
      "610:\tlearn: 0.0166739\ttotal: 3m 53s\tremaining: 2m 28s\n",
      "620:\tlearn: 0.0166419\ttotal: 3m 57s\tremaining: 2m 24s\n",
      "630:\tlearn: 0.0166247\ttotal: 4m 1s\tremaining: 2m 21s\n",
      "640:\tlearn: 0.0166083\ttotal: 4m 5s\tremaining: 2m 17s\n",
      "650:\tlearn: 0.0165877\ttotal: 4m 9s\tremaining: 2m 13s\n",
      "660:\tlearn: 0.0165507\ttotal: 4m 13s\tremaining: 2m 9s\n",
      "670:\tlearn: 0.0165306\ttotal: 4m 16s\tremaining: 2m 5s\n",
      "680:\tlearn: 0.0165150\ttotal: 4m 20s\tremaining: 2m 2s\n",
      "690:\tlearn: 0.0164934\ttotal: 4m 24s\tremaining: 1m 58s\n",
      "700:\tlearn: 0.0164811\ttotal: 4m 28s\tremaining: 1m 54s\n",
      "710:\tlearn: 0.0164608\ttotal: 4m 32s\tremaining: 1m 50s\n",
      "720:\tlearn: 0.0164389\ttotal: 4m 35s\tremaining: 1m 46s\n",
      "730:\tlearn: 0.0164198\ttotal: 4m 39s\tremaining: 1m 42s\n",
      "740:\tlearn: 0.0163959\ttotal: 4m 43s\tremaining: 1m 39s\n",
      "750:\tlearn: 0.0163840\ttotal: 4m 47s\tremaining: 1m 35s\n",
      "760:\tlearn: 0.0163609\ttotal: 4m 51s\tremaining: 1m 31s\n",
      "770:\tlearn: 0.0163463\ttotal: 4m 55s\tremaining: 1m 27s\n",
      "780:\tlearn: 0.0163274\ttotal: 4m 58s\tremaining: 1m 23s\n",
      "790:\tlearn: 0.0163074\ttotal: 5m 3s\tremaining: 1m 20s\n",
      "800:\tlearn: 0.0162921\ttotal: 5m 6s\tremaining: 1m 16s\n",
      "810:\tlearn: 0.0162750\ttotal: 5m 10s\tremaining: 1m 12s\n",
      "820:\tlearn: 0.0162611\ttotal: 5m 14s\tremaining: 1m 8s\n",
      "830:\tlearn: 0.0162433\ttotal: 5m 18s\tremaining: 1m 4s\n",
      "840:\tlearn: 0.0162231\ttotal: 5m 22s\tremaining: 1m\n",
      "850:\tlearn: 0.0162016\ttotal: 5m 26s\tremaining: 57.2s\n",
      "860:\tlearn: 0.0161931\ttotal: 5m 30s\tremaining: 53.4s\n",
      "870:\tlearn: 0.0161753\ttotal: 5m 34s\tremaining: 49.5s\n",
      "880:\tlearn: 0.0161655\ttotal: 5m 38s\tremaining: 45.7s\n",
      "890:\tlearn: 0.0161583\ttotal: 5m 41s\tremaining: 41.8s\n",
      "900:\tlearn: 0.0161457\ttotal: 5m 45s\tremaining: 38s\n",
      "910:\tlearn: 0.0161336\ttotal: 5m 49s\tremaining: 34.2s\n",
      "920:\tlearn: 0.0161250\ttotal: 5m 53s\tremaining: 30.3s\n",
      "930:\tlearn: 0.0161173\ttotal: 5m 57s\tremaining: 26.5s\n",
      "940:\tlearn: 0.0161053\ttotal: 6m 2s\tremaining: 22.7s\n",
      "950:\tlearn: 0.0160888\ttotal: 6m 5s\tremaining: 18.9s\n",
      "960:\tlearn: 0.0160761\ttotal: 6m 9s\tremaining: 15s\n",
      "970:\tlearn: 0.0160682\ttotal: 6m 14s\tremaining: 11.2s\n",
      "980:\tlearn: 0.0160567\ttotal: 6m 17s\tremaining: 7.32s\n",
      "990:\tlearn: 0.0160404\ttotal: 6m 21s\tremaining: 3.47s\n",
      "999:\tlearn: 0.0160272\ttotal: 6m 25s\tremaining: 0us\n"
     ]
    },
    {
     "data": {
      "text/plain": [
       "<catboost.core.CatBoostClassifier at 0x7f6923f120b8>"
      ]
     },
     "execution_count": 139,
     "metadata": {},
     "output_type": "execute_result"
    }
   ],
   "source": [
    "clf.fit(X_train, y_train, cat_features=cat_features, verbose=10)"
   ]
  },
  {
   "cell_type": "code",
   "execution_count": 140,
   "id": "de633e34-897e-44fd-af66-853cb5909784",
   "metadata": {
    "execution": {
     "iopub.execute_input": "2022-02-14T11:10:12.784108Z",
     "iopub.status.busy": "2022-02-14T11:10:12.783930Z",
     "iopub.status.idle": "2022-02-14T11:10:34.920491Z",
     "shell.execute_reply": "2022-02-14T11:10:34.919863Z",
     "shell.execute_reply.started": "2022-02-14T11:10:12.784084Z"
    },
    "tags": []
   },
   "outputs": [
    {
     "data": {
      "text/plain": [
       "0.9936340139132119"
      ]
     },
     "execution_count": 140,
     "metadata": {},
     "output_type": "execute_result"
    }
   ],
   "source": [
    "clf.score(X_train, y_train)"
   ]
  },
  {
   "cell_type": "code",
   "execution_count": 141,
   "id": "0eb1ac9e-744c-429f-965f-e25745c4b899",
   "metadata": {
    "execution": {
     "iopub.execute_input": "2022-02-14T11:10:34.922171Z",
     "iopub.status.busy": "2022-02-14T11:10:34.921983Z",
     "iopub.status.idle": "2022-02-14T11:10:49.516814Z",
     "shell.execute_reply": "2022-02-14T11:10:49.516184Z",
     "shell.execute_reply.started": "2022-02-14T11:10:34.922147Z"
    },
    "tags": []
   },
   "outputs": [
    {
     "data": {
      "text/plain": [
       "0.9936462494613918"
      ]
     },
     "execution_count": 141,
     "metadata": {},
     "output_type": "execute_result"
    }
   ],
   "source": [
    "clf.score(X_test, y_test)"
   ]
  },
  {
   "cell_type": "code",
   "execution_count": 142,
   "id": "5d6f0a91-70ae-4da3-becc-649127193bd9",
   "metadata": {
    "execution": {
     "iopub.execute_input": "2022-02-14T11:10:49.518138Z",
     "iopub.status.busy": "2022-02-14T11:10:49.517952Z",
     "iopub.status.idle": "2022-02-14T11:11:04.159487Z",
     "shell.execute_reply": "2022-02-14T11:11:04.158648Z",
     "shell.execute_reply.started": "2022-02-14T11:10:49.518107Z"
    },
    "tags": []
   },
   "outputs": [],
   "source": [
    "pred = clf.predict(X_test)"
   ]
  },
  {
   "cell_type": "code",
   "execution_count": 143,
   "id": "9db230a8-d17b-4a2f-aaf3-326a3cc24fcb",
   "metadata": {
    "execution": {
     "iopub.execute_input": "2022-02-14T11:11:04.176949Z",
     "iopub.status.busy": "2022-02-14T11:11:04.176802Z",
     "iopub.status.idle": "2022-02-14T11:11:13.538243Z",
     "shell.execute_reply": "2022-02-14T11:11:13.537514Z",
     "shell.execute_reply.started": "2022-02-14T11:11:04.176931Z"
    },
    "tags": []
   },
   "outputs": [
    {
     "name": "stdout",
     "output_type": "stream",
     "text": [
      "              precision    recall  f1-score   support\n",
      "\n",
      "           0       1.00      0.99      1.00   4811201\n",
      "           1       0.95      0.99      0.97    528952\n",
      "\n",
      "    accuracy                           0.99   5340153\n",
      "   macro avg       0.97      0.99      0.98   5340153\n",
      "weighted avg       0.99      0.99      0.99   5340153\n",
      "\n"
     ]
    }
   ],
   "source": [
    "print(classification_report(y_test, pred))"
   ]
  },
  {
   "cell_type": "code",
   "execution_count": 144,
   "id": "6b1c9640-6db2-4f6a-8843-0c5410ec9897",
   "metadata": {
    "execution": {
     "iopub.execute_input": "2022-02-14T11:12:04.399063Z",
     "iopub.status.busy": "2022-02-14T11:12:04.398839Z",
     "iopub.status.idle": "2022-02-14T11:12:04.987706Z",
     "shell.execute_reply": "2022-02-14T11:12:04.987229Z",
     "shell.execute_reply.started": "2022-02-14T11:12:04.399040Z"
    },
    "tags": []
   },
   "outputs": [
    {
     "data": {
      "text/plain": [
       " 0    1204799\n",
       "-1      69273\n",
       " 1      42079\n",
       " 3       7207\n",
       " 2         82\n",
       "Name: IN_MOTIV, dtype: int64"
      ]
     },
     "execution_count": 144,
     "metadata": {},
     "output_type": "execute_result"
    }
   ],
   "source": [
    "data[data['target'] == 1]['IN_MOTIV'].value_counts()"
   ]
  },
  {
   "cell_type": "code",
   "execution_count": null,
   "id": "fb88b6d1-ba4c-4c3f-b730-b92790b6a4da",
   "metadata": {},
   "outputs": [],
   "source": [
    "X_test[]"
   ]
  },
  {
   "cell_type": "code",
   "execution_count": 146,
   "id": "962a7257-edf7-4b8f-8366-effcc6882279",
   "metadata": {
    "execution": {
     "iopub.execute_input": "2022-02-14T11:13:31.199058Z",
     "iopub.status.busy": "2022-02-14T11:13:31.198825Z",
     "iopub.status.idle": "2022-02-14T11:13:31.202971Z",
     "shell.execute_reply": "2022-02-14T11:13:31.202523Z",
     "shell.execute_reply.started": "2022-02-14T11:13:31.199035Z"
    },
    "tags": []
   },
   "outputs": [
    {
     "data": {
      "text/plain": [
       "['date_report',\n",
       " 'emploee_position',\n",
       " 'emp_age',\n",
       " 'report-start_job',\n",
       " 'finish_job-report',\n",
       " 'SOURCE_SYSTEM',\n",
       " 'OPERATION',\n",
       " 'CHANNEL_GR',\n",
       " 'urf_code_uni',\n",
       " 'QUANTITY',\n",
       " 'IN_MOTIV',\n",
       " 'PRODUCT_NAME',\n",
       " 'vl_up',\n",
       " 'insert-report',\n",
       " 'update-report',\n",
       " 'client_age',\n",
       " 'client_is_emploee',\n",
       " 'emploee_in_vacation',\n",
       " 'emp_oper_per_day',\n",
       " 'emp_oper_per_month',\n",
       " 'day_of_week',\n",
       " 'client_product_per_day']"
      ]
     },
     "execution_count": 146,
     "metadata": {},
     "output_type": "execute_result"
    }
   ],
   "source": [
    "clf.feature_names_"
   ]
  },
  {
   "cell_type": "code",
   "execution_count": 147,
   "id": "2b7f3d18-68a3-4067-bec2-5ea2bc47a34e",
   "metadata": {
    "execution": {
     "iopub.execute_input": "2022-02-14T11:13:35.993198Z",
     "iopub.status.busy": "2022-02-14T11:13:35.992933Z",
     "iopub.status.idle": "2022-02-14T11:13:36.006686Z",
     "shell.execute_reply": "2022-02-14T11:13:36.006208Z",
     "shell.execute_reply.started": "2022-02-14T11:13:35.993174Z"
    },
    "tags": []
   },
   "outputs": [],
   "source": [
    "features = pd.DataFrame({'feature_importance': clf.get_feature_importance(),\n",
    "                         'feature_names': clf.feature_names_}).sort_values(by=['feature_importance'], ascending=False)"
   ]
  },
  {
   "cell_type": "code",
   "execution_count": 148,
   "id": "02cb9510-a1d7-4622-86d4-8e17d4f04bb8",
   "metadata": {
    "execution": {
     "iopub.execute_input": "2022-02-14T11:13:36.308898Z",
     "iopub.status.busy": "2022-02-14T11:13:36.308730Z",
     "iopub.status.idle": "2022-02-14T11:13:36.316024Z",
     "shell.execute_reply": "2022-02-14T11:13:36.315596Z",
     "shell.execute_reply.started": "2022-02-14T11:13:36.308879Z"
    },
    "tags": []
   },
   "outputs": [
    {
     "data": {
      "text/html": [
       "<div>\n",
       "<style scoped>\n",
       "    .dataframe tbody tr th:only-of-type {\n",
       "        vertical-align: middle;\n",
       "    }\n",
       "\n",
       "    .dataframe tbody tr th {\n",
       "        vertical-align: top;\n",
       "    }\n",
       "\n",
       "    .dataframe thead th {\n",
       "        text-align: right;\n",
       "    }\n",
       "</style>\n",
       "<table border=\"1\" class=\"dataframe\">\n",
       "  <thead>\n",
       "    <tr style=\"text-align: right;\">\n",
       "      <th></th>\n",
       "      <th>feature_importance</th>\n",
       "      <th>feature_names</th>\n",
       "    </tr>\n",
       "  </thead>\n",
       "  <tbody>\n",
       "    <tr>\n",
       "      <th>10</th>\n",
       "      <td>22.610164</td>\n",
       "      <td>IN_MOTIV</td>\n",
       "    </tr>\n",
       "    <tr>\n",
       "      <th>11</th>\n",
       "      <td>16.881913</td>\n",
       "      <td>PRODUCT_NAME</td>\n",
       "    </tr>\n",
       "    <tr>\n",
       "      <th>5</th>\n",
       "      <td>12.935667</td>\n",
       "      <td>SOURCE_SYSTEM</td>\n",
       "    </tr>\n",
       "    <tr>\n",
       "      <th>12</th>\n",
       "      <td>10.254963</td>\n",
       "      <td>vl_up</td>\n",
       "    </tr>\n",
       "    <tr>\n",
       "      <th>6</th>\n",
       "      <td>9.721966</td>\n",
       "      <td>OPERATION</td>\n",
       "    </tr>\n",
       "    <tr>\n",
       "      <th>13</th>\n",
       "      <td>7.606412</td>\n",
       "      <td>insert-report</td>\n",
       "    </tr>\n",
       "    <tr>\n",
       "      <th>21</th>\n",
       "      <td>4.771862</td>\n",
       "      <td>client_product_per_day</td>\n",
       "    </tr>\n",
       "    <tr>\n",
       "      <th>15</th>\n",
       "      <td>2.391453</td>\n",
       "      <td>client_age</td>\n",
       "    </tr>\n",
       "    <tr>\n",
       "      <th>16</th>\n",
       "      <td>2.047365</td>\n",
       "      <td>client_is_emploee</td>\n",
       "    </tr>\n",
       "    <tr>\n",
       "      <th>1</th>\n",
       "      <td>2.030087</td>\n",
       "      <td>emploee_position</td>\n",
       "    </tr>\n",
       "    <tr>\n",
       "      <th>18</th>\n",
       "      <td>1.748816</td>\n",
       "      <td>emp_oper_per_day</td>\n",
       "    </tr>\n",
       "    <tr>\n",
       "      <th>7</th>\n",
       "      <td>1.557189</td>\n",
       "      <td>CHANNEL_GR</td>\n",
       "    </tr>\n",
       "    <tr>\n",
       "      <th>19</th>\n",
       "      <td>1.492058</td>\n",
       "      <td>emp_oper_per_month</td>\n",
       "    </tr>\n",
       "    <tr>\n",
       "      <th>3</th>\n",
       "      <td>0.889487</td>\n",
       "      <td>report-start_job</td>\n",
       "    </tr>\n",
       "    <tr>\n",
       "      <th>4</th>\n",
       "      <td>0.830092</td>\n",
       "      <td>finish_job-report</td>\n",
       "    </tr>\n",
       "    <tr>\n",
       "      <th>0</th>\n",
       "      <td>0.716367</td>\n",
       "      <td>date_report</td>\n",
       "    </tr>\n",
       "    <tr>\n",
       "      <th>20</th>\n",
       "      <td>0.456578</td>\n",
       "      <td>day_of_week</td>\n",
       "    </tr>\n",
       "    <tr>\n",
       "      <th>2</th>\n",
       "      <td>0.313464</td>\n",
       "      <td>emp_age</td>\n",
       "    </tr>\n",
       "    <tr>\n",
       "      <th>14</th>\n",
       "      <td>0.294011</td>\n",
       "      <td>update-report</td>\n",
       "    </tr>\n",
       "    <tr>\n",
       "      <th>8</th>\n",
       "      <td>0.281254</td>\n",
       "      <td>urf_code_uni</td>\n",
       "    </tr>\n",
       "    <tr>\n",
       "      <th>17</th>\n",
       "      <td>0.168831</td>\n",
       "      <td>emploee_in_vacation</td>\n",
       "    </tr>\n",
       "    <tr>\n",
       "      <th>9</th>\n",
       "      <td>0.000000</td>\n",
       "      <td>QUANTITY</td>\n",
       "    </tr>\n",
       "  </tbody>\n",
       "</table>\n",
       "</div>"
      ],
      "text/plain": [
       "    feature_importance           feature_names\n",
       "10           22.610164                IN_MOTIV\n",
       "11           16.881913            PRODUCT_NAME\n",
       "5            12.935667           SOURCE_SYSTEM\n",
       "12           10.254963                   vl_up\n",
       "6             9.721966               OPERATION\n",
       "13            7.606412           insert-report\n",
       "21            4.771862  client_product_per_day\n",
       "15            2.391453              client_age\n",
       "16            2.047365       client_is_emploee\n",
       "1             2.030087        emploee_position\n",
       "18            1.748816        emp_oper_per_day\n",
       "7             1.557189              CHANNEL_GR\n",
       "19            1.492058      emp_oper_per_month\n",
       "3             0.889487        report-start_job\n",
       "4             0.830092       finish_job-report\n",
       "0             0.716367             date_report\n",
       "20            0.456578             day_of_week\n",
       "2             0.313464                 emp_age\n",
       "14            0.294011           update-report\n",
       "8             0.281254            urf_code_uni\n",
       "17            0.168831     emploee_in_vacation\n",
       "9             0.000000                QUANTITY"
      ]
     },
     "execution_count": 148,
     "metadata": {},
     "output_type": "execute_result"
    }
   ],
   "source": [
    "features"
   ]
  },
  {
   "cell_type": "code",
   "execution_count": 88,
   "id": "6cd9b9ad-35fe-47c3-9a65-0c63fb10a5e5",
   "metadata": {
    "execution": {
     "iopub.execute_input": "2022-02-14T09:34:30.243476Z",
     "iopub.status.busy": "2022-02-14T09:34:30.243327Z",
     "iopub.status.idle": "2022-02-14T09:34:31.216206Z",
     "shell.execute_reply": "2022-02-14T09:34:31.215707Z",
     "shell.execute_reply.started": "2022-02-14T09:34:30.243459Z"
    },
    "tags": []
   },
   "outputs": [
    {
     "data": {
      "text/plain": [
       "array(['Операция принята к учету', 'Операция премируется',\n",
       "       'Не премируются операция выдачи карт Моментум, премируется только оформление заявления на карты Моментум',\n",
       "       'без предложения CRM/Iserve',\n",
       "       'Не премируется. Оплачивается платеж/перевод по сумме от 100 руб. 00 коп.',\n",
       "       'Не премируется, более 8 продаж в день',\n",
       "       'Не премируется. Клиентом не проведена оплата подписки ',\n",
       "       'Не премируется, отсутствует обработка CRM/ISERV (согласно правил учёта УП)',\n",
       "       '-',\n",
       "       'Не премируется . Оплачиваются справки/выписки, оформленные по талону С (до июля 2021) или Э (с августа 2021) корректно заведенные в AC CRM  иили АС Целевой подбор СБОЛ.Про с указанием первичной потребности \"Выписки и справки\"     ',\n",
       "       'Не премируется. Оплачивается не более одного продукта в день на 1-го клиента.',\n",
       "       'Не премируется, клиент уже пользовался СБОЛ/МП ранее.',\n",
       "       'Превышено кол-во продаж на месяц без спецпредложения в CRM',\n",
       "       'Установка без осуществления заказа',\n",
       "       'Не премируется. Вклад\\\\счет закрыт до 2-го числа след месяца. Условие не распространяется на счета ГЖС',\n",
       "       'Премируется', 'Не премируется подключение услуги сотрудникам',\n",
       "       'Не премируется, ТП не подключен в день продажи',\n",
       "       'Не премируется. Отсутствует предложение в СБОЛ.Про или ISERVE.',\n",
       "       'Не премируется.\\tОформление клиентам подписки «СберПрайм+» с действующей годовой подпиской «СберПрайм» ',\n",
       "       'Не премируются. Возраст клиента не соответствует условиям учёта.',\n",
       "       'Не премируется, поскольку отсутствует предложение по продукту в CRM',\n",
       "       'Не определен продавец (отсутствует РР)',\n",
       "       'Не премируется. Оплачивается не более одной справки/выписки в день на 1-го клиента',\n",
       "       'Возврат в пределах 14 дней',\n",
       "       'Не премируется. Карта еще не выдана.',\n",
       "       'Не премируется, более X продаж в день. Х- число продажа ограниченное условиями мотивации.',\n",
       "       'Не поступила информация об итоговом статусе первого заказа',\n",
       "       'Не премируется. Не первый вкалад открытый клиенту в этом всп за эту дату. Условие не распространяется на Номинальные счета, Жилищные программы ',\n",
       "       'Не премируется. Договор расторгнут до 3 к.д. месяца, следующего за отчетным',\n",
       "       'Не премируется, операция вне периода +/-60 мин. от \"Кода Консультанта\"',\n",
       "       'Не премируются вклады на сумму меньше 10 000 руб.Условие не распространяется на Номинальные счета, Жилищные программы ',\n",
       "       'только отправка смс', 'Премируется - ISSUED - купили страховку',\n",
       "       'Уставновка без платного действия в течении 30 дней',\n",
       "       'Продажа сотруднику сбербанка',\n",
       "       'Не премируется. Дата открытия счета, на который была проведена операция по зачислению з.п., позже, либо равна дате заявки клиента',\n",
       "       'Нет транзакции по КК Моментум (СБОЛ PRO)',\n",
       "       'Статус \"Отменен\" или \"Аннулирован\"', 'Данное ВСП не мотивируется',\n",
       "       'Коробка не учитывается в мотивации',\n",
       "       'Не оформлен сотрудником или не премируется. Грязный вал',\n",
       "       'Продажа сотруднику СБ',\n",
       "       'Указанный табельный номер отсутствует в SAP',\n",
       "       'более 30 дней со дня установки',\n",
       "       'Отсутствие платного действия при оплате картой стороннего банка',\n",
       "       'Не премируется тариф \"Старт\" с оплаченной аб. платой, без скидки по подписке СберПрайм',\n",
       "       'Не премируется. Продажа клиенту канала премьер',\n",
       "       'ИПП. Продажа клиенту канала Премьер',\n",
       "       'Платеж не является первым (коробка с периодическим платежом)',\n",
       "       'Не премируется. Не  было подключения годовой подписки. Нулевая транзакция, не было оплаты промокодом. ',\n",
       "       'Не входит в территорию/период Пилота',\n",
       "       'Отсутствие подтверждения продажи продукта в CRM/ISERVE/СБОЛ.про/витрине',\n",
       "       'премируется',\n",
       "       'Повторно не премируется. Текущий вид операции по данному клиенту зафиксирован ранее',\n",
       "       'По картам Сберкарта премирование не производится',\n",
       "       'Отсутствие в CRM продажи продукта',\n",
       "       'Операция не премируется, должность не в мотивации',\n",
       "       'Не премируются счета участника закупок на сумму меньше 10 000 руб',\n",
       "       'Отсутствие предложения в CRM «Сбермаркет»',\n",
       "       'Не премируется. 2.Не учитывать подписки, которые были возвращены клиентом до 2 числа месяца, следующего за месяцем оплаты',\n",
       "       'В CRM отсутствует статус \"Продажа\"',\n",
       "       'Не выполнены условия мотивации для подписки СберПрайм',\n",
       "       'Платное действие в день отправки смс/активации промокода',\n",
       "       'ИПП. Не премируется, периодический платеж.',\n",
       "       'Не премируется. Клиент старше 70 лет',\n",
       "       'Кредитная карта закрыта до 2го календарного дня месяца, следующего за отчетным',\n",
       "       'Не премируется. Не более 1го оформленного брокерского счета одному клиенту',\n",
       "       'Не учитывается более одной одобренной заявки ЖК по одному клиенту за 3 календарных месяца',\n",
       "       'Не премируется. Подключение подписки Прайм+ учитывается в случае, если в предшествующий период 90 дней, мотивация за продажу Клиенту аналогичной подписки, не выплачивалась. ',\n",
       "       'Не премируется. Карта закрыта', 'Не учитываются Digital карты',\n",
       "       'Не выдан ПК/Кред.карта; не одобрен ЖК', 'Оформлено не в СБОЛ',\n",
       "       'Повторная установка', 'продажа сотруднику сбербанка',\n",
       "       'более одной актуализации у клиента за пол года',\n",
       "       'Не премируется, поскольку такая операция уже обработана',\n",
       "       'Не премируется. Договор расторгнут до 2 дня, следующего за отчетным месяца',\n",
       "       'Клиент оформил отказ от продукта',\n",
       "       'Не более 1-го коробочного продукта в день выдачи потребительского кредита (СПП)',\n",
       "       'Сбербокс не доставлен и не оплачен',\n",
       "       'Ограничения по возрасту клиента младше 70 лет',\n",
       "       'Повторно не премируется. Текущий вид операции по данному клиенту зафиксирован ранее у сотрудника другого канала',\n",
       "       'Номинал полиса не соответствует учитываемым (защита квартиры\\\\дома)',\n",
       "       'Не премируется, поскольку продукт в CRM был заведён при наличии признака NBO (нового бизнес-предложения)',\n",
       "       'Пилот. Не премируется, т.к. отсутствует предложение/статус \"Добавить к оформлению\" в СБОЛ.Про',\n",
       "       'Отсутствует регистрация клиента в сервисе \"Свое дело\" ',\n",
       "       'Не премируется, не проставлен Статус «Продажа» в CRM в день оформления продукта',\n",
       "       'Статус не \"Доставлен\"',\n",
       "       'Не премируется, вход произведён вне периода +/-60 мин. от  операции \"Код консультанта\"',\n",
       "       'Платное действие произошло позднее 60 дней от даты установки',\n",
       "       'По \"зарплатным\" картам, открытым за 60 дней до даты консультации (заявки на перевод ЗП), мотивация не производится',\n",
       "       'Не найден в витрине подарков',\n",
       "       'Не премируется.\\tОформление клиентам ежемесячной или годовой подписки «СберПрайм+», если подписка (Сберпрайм+)отключена в день подключения.',\n",
       "       'Не премируется продажа сотрудникам',\n",
       "       'установка или первая покупка была до смс',\n",
       "       'Не премируется.\\tПодписки учитываются по клиентам:\\n- с действующей СберКартой,\\n- которые открыли СберКарту в день оформления СберПрайм+ и активировали СберКарту в течение 10 дней с даты оформления СберПрайм+. \\n',\n",
       "       'Не более 1-го продукта Сберздоровье в день выдачи потребительского кредита (СПП)',\n",
       "       'Менее 180 дней со дня последней установки',\n",
       "       'Не более 1 установки одному клиенту',\n",
       "       'Не премируется оплата с карт сотрудников',\n",
       "       'Не премируется более 1 продажи одному клиенту в день',\n",
       "       'Не премируется. В течение 30 календарных дней после успешно проведенного расчета кредитного потенциала клиенту, клиентом должен был быть приобретен «кредитный продукт».',\n",
       "       'Платная покупка более 44 дней после установки приложения/активации промокода',\n",
       "       'Не премируется более 2 сим-карт одному клиенту',\n",
       "       'Не премируется. Продажа учитывается при условии пополнения на сумму не менее 90 тыс. рублей',\n",
       "       'Не премируется. Операция помечена флагом УДАЛЕНА ',\n",
       "       'Продажа самому себе или сотруднику канала продаж',\n",
       "       'Не премируется. Если у клиента в течение последнего 91 календарного дня до даты выдачи Сберкарта (или активации карты клиентом в СБОЛ) отсутствовала дебетовая карта. ',\n",
       "       'Переводы после учтенного в мотивацию (Western Union/переводы в банки-партнеры)',\n",
       "       'Сумма заказа менее 500 рублей', 'Ограничение по сумме заказа',\n",
       "       'ИПП. Сумма<2000 руб.', 'Операция не премируется',\n",
       "       'Продажа сотруднику банка', 'Продажа более 30 дней',\n",
       "       'Отсутсвие продажи в CRM/ISERVE/СБОЛ.Про',\n",
       "       'Не премируется, реактивация невозможна одновременно с первичным подключением',\n",
       "       'Отсутсвие продажи в ISERVE/СБОЛ.Про',\n",
       "       'Не учитываются заявки ЖК у СПП без предварительной консультации в СБОЛ-Про',\n",
       "       'Пилот 1006 ФМ. Пополнение ИИС не премируется.',\n",
       "       'Не выполнено условие \"корректно проставлен статус «Добавить к оформлению» в СБОЛ.ПРО\"',\n",
       "       'Более 1 ПИФ в день',\n",
       "       'Не премируется открытие более одного счета участника закупок одному клиенту в месяц.',\n",
       "       'Пилот. Нет предложения/Не проставлен статус \"Добавить к оформлению в iServe/СБОЛ.Про',\n",
       "       'Продукты витрины. Проверка курьером или СПП не подтверждена',\n",
       "       'Сумма переводов менее 3000р (Western Union/переводы в банки-партнеры)',\n",
       "       'Третья и более продажа одному клиенту (телемедицина от СберЗдоровье)',\n",
       "       'Возраст клиента 70+', 'Продажа в СБОЛ клиента',\n",
       "       'Отсутствует подтверждение продажи в витрине',\n",
       "       'Не премируются продажи в Сболе клиента', 'Нет продажи в CRM',\n",
       "       'более 5 продаж на одного сотрудника СПП в день',\n",
       "       'Не премируется, нет оплаты',\n",
       "       'Не премируется. Отсутствует подтверждение от партнера',\n",
       "       'Не премируется. Не учитывать мотивацию для механики «Оформление подписки «СберПрайм стоимостью 180 руб. за 180 дней», «Сберпрайм стоимостью 299 руб. за 6 месяцев» с действующей годовой подпиской «СберПрайм»/«СберПрайм+».',\n",
       "       'сумма менее 10000',\n",
       "       'Не премируется, сумма оплаты недостаточная для подключения ТП',\n",
       "       'Не премируется. Продажа самому себе/сотруднику канала продаж',\n",
       "       'Не премируется. Было найдено зачисление до даты консультации клиента',\n",
       "       'ФМ. Открытие БС сотруднику Сбербанка',\n",
       "       'Не премируется. Заявки поданные ранее не через СБОЛ в тeчении 270 дней',\n",
       "       'Не премируется продажа в СБОЛ/МП СБОЛ клиента',\n",
       "       'ФМ. У клиента ранее был открыт брокерский счёт.',\n",
       "       'Пилот. Не премируется продажа сотрудникам'], dtype=object)"
      ]
     },
     "execution_count": 88,
     "metadata": {},
     "output_type": "execute_result"
    }
   ],
   "source": [
    "data['DESCRIPTION'].unique()"
   ]
  },
  {
   "cell_type": "code",
   "execution_count": null,
   "id": "bf0a9fdd-2901-41b6-9f9c-e93c4f2ed421",
   "metadata": {},
   "outputs": [],
   "source": []
  }
 ],
 "metadata": {
  "kernelspec": {
   "display_name": "Python 3",
   "language": "python",
   "name": "python3"
  },
  "language_info": {
   "codemirror_mode": {
    "name": "ipython",
    "version": 3
   },
   "file_extension": ".py",
   "mimetype": "text/x-python",
   "name": "python",
   "nbconvert_exporter": "python",
   "pygments_lexer": "ipython3",
   "version": "3.6.8"
  }
 },
 "nbformat": 4,
 "nbformat_minor": 5
}
